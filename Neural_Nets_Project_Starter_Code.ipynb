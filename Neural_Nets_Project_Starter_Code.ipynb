{
 "cells": [
  {
   "cell_type": "markdown",
   "metadata": {
    "id": "LfOkJOcjF3mv"
   },
   "source": [
    "# Gesture Recognition\n",
    "In this group project, you are going to build a 3D Conv model that will be able to predict the 5 gestures correctly. Please import the following libraries to get started."
   ]
  },
  {
   "cell_type": "code",
   "execution_count": 4,
   "metadata": {
    "colab": {
     "base_uri": "https://localhost:8080/"
    },
    "id": "yOEa6FNngQok",
    "outputId": "e741dfde-9fde-41e6-92f8-de1de831d495"
   },
   "outputs": [],
   "source": [
    "#!pip install scipy\n",
    "#!pip install imageio\n",
    "#!pip install scikit-image  # lazy-loader-0.4 networkx-3.3 scikit-image-0.24.0 tifffile-2024.7.24\n",
    "#!pip install opencv-python # opencv-python-4.10.0.84\n",
    "#!pip install keras.layers.convolutional\n",
    "#!pip install keras==2.15.0 #keras-2.15.0\n",
    "#!pip install tensorflow  "
   ]
  },
  {
   "cell_type": "code",
   "execution_count": 1,
   "metadata": {
    "id": "tWT79p7UF3mw"
   },
   "outputs": [],
   "source": [
    "import numpy as np\n",
    "#from scipy.misc import imread, imresize\n",
    "#import imageio\n",
    "from skimage import io\n",
    "from skimage.transform import resize\n",
    "from skimage.util import crop\n",
    "import matplotlib.pyplot as plt\n",
    "\n",
    "import datetime\n",
    "import os"
   ]
  },
  {
   "cell_type": "code",
   "execution_count": 2,
   "metadata": {},
   "outputs": [],
   "source": [
    "from keras.layers import Dense, Activation, Dropout, Conv2D, LSTM, MaxPooling2D, Flatten, BatchNormalization, Conv3D, MaxPooling3D, Input"
   ]
  },
  {
   "cell_type": "code",
   "execution_count": 3,
   "metadata": {
    "id": "qcIHb5dUnNhl"
   },
   "outputs": [],
   "source": [
    "import pandas as pd"
   ]
  },
  {
   "cell_type": "code",
   "execution_count": 4,
   "metadata": {},
   "outputs": [],
   "source": [
    "import imageio.v2 as imageio"
   ]
  },
  {
   "cell_type": "code",
   "execution_count": null,
   "metadata": {
    "colab": {
     "base_uri": "https://localhost:8080/"
    },
    "id": "pdPUWxHPGVrl",
    "outputId": "7d08b766-6eaa-417a-a70e-33ee90203406"
   },
   "outputs": [],
   "source": [
    "#Commenting google colab code\n",
    "#from google.colab import drive\n",
    "#drive.mount('/content/drive')"
   ]
  },
  {
   "cell_type": "code",
   "execution_count": null,
   "metadata": {
    "colab": {
     "base_uri": "https://localhost:8080/"
    },
    "id": "eLc1wRVfNk3b",
    "outputId": "8fefbc42-f3e8-4ffc-9d98-0bf1f8911252"
   },
   "outputs": [],
   "source": [
    "#!ls /content/drive/MyDrive/DataSets/"
   ]
  },
  {
   "cell_type": "code",
   "execution_count": null,
   "metadata": {
    "colab": {
     "base_uri": "https://localhost:8080/"
    },
    "id": "V8tANTqWNuPC",
    "outputId": "6d61886d-ed17-4d3e-fd55-8fbde3490d02"
   },
   "outputs": [],
   "source": [
    "#!unzip /content/drive/MyDrive/DataSets/Project_data.zip -d /content/drive/MyDrive/DataSets/"
   ]
  },
  {
   "cell_type": "markdown",
   "metadata": {
    "id": "ju9inD8CF3mx"
   },
   "source": [
    "We set the random seed so that the results don't vary drastically."
   ]
  },
  {
   "cell_type": "code",
   "execution_count": null,
   "metadata": {
    "colab": {
     "base_uri": "https://localhost:8080/"
    },
    "id": "-txAEjuxhTgi",
    "outputId": "5c1f4142-54b7-4ea8-9586-f10ea8559174"
   },
   "outputs": [],
   "source": [
    "#!pip install rasa==1.1.4"
   ]
  },
  {
   "cell_type": "code",
   "execution_count": 5,
   "metadata": {
    "id": "H4QlQ4IJF3mx"
   },
   "outputs": [],
   "source": [
    "np.random.seed(30)\n",
    "import random as rn\n",
    "rn.seed(30)\n",
    "from keras import backend as K\n",
    "import tensorflow as tf\n",
    "#tf.set_random_seed(30) --> Deprecated\n",
    "tf.random.set_seed(30)"
   ]
  },
  {
   "cell_type": "markdown",
   "metadata": {
    "id": "ORf5I2ZKF3mx"
   },
   "source": [
    "In this block, you read the folder names for training and validation. You also set the `batch_size` here. Note that you set the batch size in such a way that you are able to use the GPU in full capacity. You keep increasing the batch size until the machine throws an error."
   ]
  },
  {
   "cell_type": "code",
   "execution_count": 6,
   "metadata": {},
   "outputs": [],
   "source": [
    "localExecution = True"
   ]
  },
  {
   "cell_type": "code",
   "execution_count": 7,
   "metadata": {},
   "outputs": [],
   "source": [
    "if localExecution:\n",
    "    dataset_path = \"C:/Users/ukhan/Documents/Learning/Python/Jupyter/DeepLearning_CaseStudy_GuestureRecognition/Project_data/\"\n",
    "    model_checkpoint_path = \"C:/Users/ukhan/Documents/Learning/Python/Jupyter/DeepLearning_CaseStudy_GuestureRecognition/\"\n",
    "else:\n",
    "    dataset_path = '/home/datasets/Project_data/'  # Jarvis lab\n",
    "    model_checkpoint_path = './'\n"
   ]
  },
  {
   "cell_type": "code",
   "execution_count": 17,
   "metadata": {
    "id": "o4zs38B9hs6O"
   },
   "outputs": [],
   "source": [
    "#!cp -r /home/datasets/Project_data /home/datasets/Project_data_partial"
   ]
  },
  {
   "cell_type": "code",
   "execution_count": 18,
   "metadata": {
    "id": "-wFUKTSSlJfa"
   },
   "outputs": [],
   "source": [
    "#!mkdir /content/drive/MyDrive/DataSets/Project_data_partial/train_15/\n",
    "#!mv /content/drive/MyDrive/DataSets/Project_data_partial/train/WIN_20180907_15_*  /content/drive/MyDrive/DataSets/Project_data_partial/train_15/"
   ]
  },
  {
   "cell_type": "code",
   "execution_count": null,
   "metadata": {
    "id": "tlOsYvPCmWJo"
   },
   "outputs": [],
   "source": [
    "#!mkdir /content/drive/MyDrive/DataSets/Project_data_partial/val_15/\n",
    "#!mv /content/drive/MyDrive/DataSets/Project_data_partial/val/WIN_20180907_15* /content/drive/MyDrive/DataSets/Project_data_partial/val_15/"
   ]
  },
  {
   "cell_type": "code",
   "execution_count": null,
   "metadata": {
    "colab": {
     "base_uri": "https://localhost:8080/"
    },
    "id": "0fLDixXHowFi",
    "outputId": "5303d06f-2879-4fb1-e3d4-1f6da0ae2717"
   },
   "outputs": [],
   "source": [
    "#!ls -l /content/drive/MyDrive/DataSets/Project_data_partial/train_15/ | wc -l\n",
    "#!ls -l /content/drive/MyDrive/DataSets/Project_data_partial/val_15/ | wc -l"
   ]
  },
  {
   "cell_type": "code",
   "execution_count": 8,
   "metadata": {
    "id": "domt6pRkh6mJ"
   },
   "outputs": [],
   "source": [
    "train_csv = dataset_path+'/train.csv'\n",
    "val_csv = dataset_path+'/val.csv'"
   ]
  },
  {
   "cell_type": "code",
   "execution_count": 9,
   "metadata": {
    "id": "0BQ_rDEImyI8"
   },
   "outputs": [],
   "source": [
    "train_df = pd.read_csv(train_csv, header=None)\n",
    "val_df = pd.read_csv(val_csv, header=None)"
   ]
  },
  {
   "cell_type": "code",
   "execution_count": 23,
   "metadata": {
    "id": "domt6pRkh6mJ"
   },
   "outputs": [],
   "source": [
    "#train_15_csv = dataset_path+'/train_15.csv'\n",
    "#val_15_csv = dataset_path+'/val_15.csv'"
   ]
  },
  {
   "cell_type": "code",
   "execution_count": 24,
   "metadata": {
    "id": "22A1iZTCoJah"
   },
   "outputs": [],
   "source": [
    "#train_15_csv = '/content/drive/MyDrive/DataSets/Project_data_partial/train_15.csv'\n",
    "#val_15_csv = '/content/drive/MyDrive/DataSets/Project_data_partial/val_15.csv'"
   ]
  },
  {
   "cell_type": "code",
   "execution_count": 25,
   "metadata": {
    "colab": {
     "base_uri": "https://localhost:8080/"
    },
    "id": "jpa0gmHEXX0_",
    "outputId": "5b118094-e9c4-404d-b882-e587b322dead"
   },
   "outputs": [],
   "source": [
    "#!rm train_15_csv\n",
    "#!rm val_15_csv"
   ]
  },
  {
   "cell_type": "code",
   "execution_count": 10,
   "metadata": {
    "id": "IPmy1IY0nRbW"
   },
   "outputs": [],
   "source": [
    "train_15_df = train_df[train_df[0].str.contains('WIN_20180907_15')]"
   ]
  },
  {
   "cell_type": "code",
   "execution_count": 11,
   "metadata": {
    "id": "lfheCPwpnRXH"
   },
   "outputs": [],
   "source": [
    "val_15_df = val_df[val_df[0].str.contains('WIN_20180907_15')]"
   ]
  },
  {
   "cell_type": "code",
   "execution_count": 12,
   "metadata": {
    "colab": {
     "base_uri": "https://localhost:8080/"
    },
    "id": "Z1YUWk0snRTB",
    "outputId": "162a09b1-95f5-4877-d3ff-784e61ea6638"
   },
   "outputs": [
    {
     "data": {
      "text/plain": [
       "(57, 1)"
      ]
     },
     "execution_count": 12,
     "metadata": {},
     "output_type": "execute_result"
    }
   ],
   "source": [
    "train_15_df.shape"
   ]
  },
  {
   "cell_type": "code",
   "execution_count": 13,
   "metadata": {
    "colab": {
     "base_uri": "https://localhost:8080/"
    },
    "id": "108WeAWcnRPt",
    "outputId": "9510c9b2-6769-468b-9e23-8d7e0e5aca56"
   },
   "outputs": [
    {
     "data": {
      "text/plain": [
       "(13, 1)"
      ]
     },
     "execution_count": 13,
     "metadata": {},
     "output_type": "execute_result"
    }
   ],
   "source": [
    "val_15_df.shape"
   ]
  },
  {
   "cell_type": "code",
   "execution_count": 14,
   "metadata": {},
   "outputs": [
    {
     "data": {
      "text/plain": [
       "['WIN_20180907_15_38_17_Pro_Left Swipe_new_Left Swipe_new;Left Swipe_new_Left Swipe_new;0',\n",
       " 'WIN_20180907_15_43_00_Pro_Left Swipe_new_Left Swipe_new;Left Swipe_new_Left Swipe_new;0',\n",
       " 'WIN_20180907_15_43_58_Pro_Left Swipe_new_Left Swipe_new;Left Swipe_new_Left Swipe_new;0',\n",
       " 'WIN_20180907_15_45_40_Pro_Left Swipe_new_Left Swipe_new;Left Swipe_new_Left Swipe_new;0',\n",
       " 'WIN_20180907_15_46_43_Pro_Left Swipe_new_Left Swipe_new;Left Swipe_new_Left Swipe_new;0',\n",
       " 'WIN_20180907_15_49_02_Pro_Left Swipe_new_Left Swipe_new;Left Swipe_new_Left Swipe_new;0',\n",
       " 'WIN_20180907_15_50_05_Pro_Left Swipe_new_Left Swipe_new;Left Swipe_new_Left Swipe_new;0',\n",
       " 'WIN_20180907_15_50_33_Pro_Left Swipe_new_Left Swipe_new;Left Swipe_new_Left Swipe_new;0',\n",
       " 'WIN_20180907_15_51_07_Pro_Left Swipe_new_Left Swipe_new;Left Swipe_new_Left Swipe_new;0',\n",
       " 'WIN_20180907_15_52_28_Pro_Left Swipe_new_Left Swipe_new;Left Swipe_new_Left Swipe_new;0',\n",
       " 'WIN_20180907_15_54_42_Pro_Left Swipe_new_Left Swipe_new;Left Swipe_new_Left Swipe_new;0',\n",
       " 'WIN_20180907_15_56_32_Pro_Left Swipe_new_Left Swipe_new;Left Swipe_new_Left Swipe_new;0',\n",
       " 'WIN_20180907_15_58_17_Pro_Left Swipe_new_Left Swipe_new;Left Swipe_new_Left Swipe_new;0',\n",
       " 'WIN_20180907_15_58_45_Pro_Left Swipe_new_Left Swipe_new;Left Swipe_new_Left Swipe_new;0',\n",
       " 'WIN_20180907_15_35_09_Pro_Right Swipe_new;Right Swipe_new;1',\n",
       " 'WIN_20180907_15_38_24_Pro_Right Swipe_new;Right Swipe_new;1',\n",
       " 'WIN_20180907_15_41_54_Pro_Right Swipe_new;Right Swipe_new;1',\n",
       " 'WIN_20180907_15_43_28_Pro_Right Swipe_new;Right Swipe_new;1',\n",
       " 'WIN_20180907_15_44_36_Pro_Right Swipe_new;Right Swipe_new;1',\n",
       " 'WIN_20180907_15_49_56_Pro_Right Swipe_new;Right Swipe_new;1',\n",
       " 'WIN_20180907_15_51_58_Pro_Right Swipe_new;Right Swipe_new;1',\n",
       " 'WIN_20180907_15_53_18_Pro_Right Swipe_new;Right Swipe_new;1',\n",
       " 'WIN_20180907_15_56_38_Pro_Right Swipe_new;Right Swipe_new;1',\n",
       " 'WIN_20180907_15_59_44_Pro_Right Swipe_new;Right Swipe_new;1',\n",
       " 'WIN_20180907_15_39_51_Pro_Stop Gesture_new;Stop Gesture_new;2',\n",
       " 'WIN_20180907_15_43_40_Pro_Stop Gesture_new;Stop Gesture_new;2',\n",
       " 'WIN_20180907_15_44_13_Pro_Stop Gesture_new;Stop Gesture_new;2',\n",
       " 'WIN_20180907_15_44_55_Pro_Stop Gesture_new;Stop Gesture_new;2',\n",
       " 'WIN_20180907_15_46_25_Pro_Stop Gesture_new;Stop Gesture_new;2',\n",
       " 'WIN_20180907_15_48_01_Pro_Stop Gesture_new;Stop Gesture_new;2',\n",
       " 'WIN_20180907_15_49_58_Pro_Stop Gesture_new;Stop Gesture_new;2',\n",
       " 'WIN_20180907_15_52_03_Pro_Stop Gesture_new;Stop Gesture_new;2',\n",
       " 'WIN_20180907_15_54_06_Pro_Stop Gesture_new;Stop Gesture_new;2',\n",
       " 'WIN_20180907_15_55_22_Pro_Stop Gesture_new;Stop Gesture_new;2',\n",
       " 'WIN_20180907_15_56_07_Pro_Stop Gesture_new;Stop Gesture_new;2',\n",
       " 'WIN_20180907_15_57_30_Pro_Stop Gesture_new;Stop Gesture_new;2',\n",
       " 'WIN_20180907_15_59_12_Pro_Stop Gesture_new;Stop Gesture_new;2',\n",
       " 'WIN_20180907_15_38_35_Pro_Thumbs Down_new;Thumbs Down_new;3',\n",
       " 'WIN_20180907_15_40_26_Pro_Thumbs Down_new;Thumbs Down_new;3',\n",
       " 'WIN_20180907_15_44_32_Pro_Thumbs Down_new;Thumbs Down_new;3',\n",
       " 'WIN_20180907_15_45_56_Pro_Thumbs Down_new;Thumbs Down_new;3',\n",
       " 'WIN_20180907_15_48_25_Pro_Thumbs Down_new;Thumbs Down_new;3',\n",
       " 'WIN_20180907_15_49_14_Pro_Thumbs Down_new;Thumbs Down_new;3',\n",
       " 'WIN_20180907_15_53_00_Pro_Thumbs Down_new;Thumbs Down_new;3',\n",
       " 'WIN_20180907_15_54_27_Pro_Thumbs Down_new;Thumbs Down_new;3',\n",
       " 'WIN_20180907_15_55_27_Pro_Thumbs Down_new;Thumbs Down_new;3',\n",
       " 'WIN_20180907_15_56_12_Pro_Thumbs Down_new;Thumbs Down_new;3',\n",
       " 'WIN_20180907_15_58_38_Pro_Thumbs Down_new;Thumbs Down_new;3',\n",
       " 'WIN_20180907_15_39_54_Pro_Thumbs Up_new;Thumbs Up_new;4',\n",
       " 'WIN_20180907_15_40_55_Pro_Thumbs Up_new;Thumbs Up_new;4',\n",
       " 'WIN_20180907_15_45_30_Pro_Thumbs Up_new;Thumbs Up_new;4',\n",
       " 'WIN_20180907_15_47_19_Pro_Thumbs Up_new;Thumbs Up_new;4',\n",
       " 'WIN_20180907_15_49_59_Pro_Thumbs Up_new;Thumbs Up_new;4',\n",
       " 'WIN_20180907_15_53_12_Pro_Thumbs Up_new;Thumbs Up_new;4',\n",
       " 'WIN_20180907_15_56_26_Pro_Thumbs Up_new;Thumbs Up_new;4',\n",
       " 'WIN_20180907_15_57_35_Pro_Thumbs Up_new;Thumbs Up_new;4',\n",
       " 'WIN_20180907_15_59_28_Pro_Thumbs Up_new;Thumbs Up_new;4']"
      ]
     },
     "execution_count": 14,
     "metadata": {},
     "output_type": "execute_result"
    }
   ],
   "source": [
    "list(train_15_df[0])"
   ]
  },
  {
   "cell_type": "code",
   "execution_count": 31,
   "metadata": {
    "id": "6EiQ9l7InRJJ"
   },
   "outputs": [],
   "source": [
    "#train_csv = train_15_csv\n",
    "#val_csv = val_15_csv"
   ]
  },
  {
   "cell_type": "code",
   "execution_count": 15,
   "metadata": {
    "id": "UCGaSE5YnQ6x"
   },
   "outputs": [],
   "source": [
    "curr_dt_time = datetime.datetime.now()\n",
    "train_path = dataset_path+\"/train/\"\n",
    "val_path = dataset_path+\"/val/\"\n",
    "print('# train_path =', train_path)\n",
    "print('# val_path =', val_path)\n",
    "num_train_sequences = len(train_doc)\n",
    "print('# training sequences =', num_train_sequences)\n",
    "num_val_sequences = len(val_doc)\n",
    "print('# validation sequences =', num_val_sequences)\n"
   ]
  },
  {
   "cell_type": "code",
   "execution_count": 37,
   "metadata": {
    "id": "9rz_kEVWF3mx"
   },
   "outputs": [],
   "source": [
    "#train_doc = np.random.permutation(open(train_csv).readlines())\n",
    "#val_doc = np.random.permutation(open(val_csv).readlines())\n",
    "#batch_size = 5 #experiment with the batch size"
   ]
  },
  {
   "cell_type": "code",
   "execution_count": 16,
   "metadata": {},
   "outputs": [],
   "source": [
    "train_doc = np.random.permutation(list(train_15_df[0]))\n",
    "val_doc = np.random.permutation(list(val_15_df[0]))\n",
    "batch_size = 5 #experiment with the batch size"
   ]
  },
  {
   "cell_type": "markdown",
   "metadata": {
    "id": "l3pjtdIEF3mx"
   },
   "source": [
    "## Generator\n",
    "This is one of the most important part of the code. The overall structure of the generator has been given. In the generator, you are going to preprocess the images as you have images of 2 different dimensions as well as create a batch of video frames. You have to experiment with `img_idx`, `y`,`z` and normalization such that you get high accuracy."
   ]
  },
  {
   "cell_type": "code",
   "execution_count": 17,
   "metadata": {
    "id": "9XR-ezSKq9ud"
   },
   "outputs": [],
   "source": [
    "import math\n",
    "import cv2"
   ]
  },
  {
   "cell_type": "code",
   "execution_count": 18,
   "metadata": {
    "colab": {
     "base_uri": "https://localhost:8080/",
     "height": 35
    },
    "id": "aPa87unzwN82",
    "outputId": "6853660e-d6f2-417e-9bb9-453f948e342c"
   },
   "outputs": [
    {
     "data": {
      "text/plain": [
       "'WIN_20180907_15_53_18_Pro_Right Swipe_new'"
      ]
     },
     "execution_count": 18,
     "metadata": {},
     "output_type": "execute_result"
    }
   ],
   "source": [
    "train_doc[0].split(\",\")[0].split(';')[0]"
   ]
  },
  {
   "cell_type": "code",
   "execution_count": 19,
   "metadata": {
    "colab": {
     "base_uri": "https://localhost:8080/"
    },
    "id": "ShlJtQC8upCw",
    "outputId": "f95b36ac-4f4e-4d27-c9bd-401706c78c18"
   },
   "outputs": [
    {
     "name": "stdout",
     "output_type": "stream",
     "text": [
      "C:/Users/ukhan/Documents/Learning/Python/Jupyter/DeepLearning_CaseStudy_GuestureRecognition/Project_data//train/ \n",
      " WIN_20180907_15_53_18_Pro_Right Swipe_new;Right Swipe_new;1 \n",
      " C:/Users/ukhan/Documents/Learning/Python/Jupyter/DeepLearning_CaseStudy_GuestureRecognition/Project_data//train//WIN_20180907_15_53_18_Pro_Right Swipe_new/WIN_20180907_15_53_18_Pro_00012.png\n",
      "0 WIN_20180907_15_53_18_Pro_00010.png\n",
      "1 WIN_20180907_15_53_18_Pro_00012.png\n",
      "2 WIN_20180907_15_53_18_Pro_00014.png\n",
      "3 WIN_20180907_15_53_18_Pro_00016.png\n",
      "4 WIN_20180907_15_53_18_Pro_00018.png\n",
      "5 WIN_20180907_15_53_18_Pro_00020.png\n",
      "6 WIN_20180907_15_53_18_Pro_00022.png\n",
      "7 WIN_20180907_15_53_18_Pro_00024.png\n",
      "8 WIN_20180907_15_53_18_Pro_00026.png\n",
      "9 WIN_20180907_15_53_18_Pro_00028.png\n",
      "10 WIN_20180907_15_53_18_Pro_00030.png\n",
      "11 WIN_20180907_15_53_18_Pro_00032.png\n",
      "12 WIN_20180907_15_53_18_Pro_00034.png\n",
      "13 WIN_20180907_15_53_18_Pro_00036.png\n",
      "14 WIN_20180907_15_53_18_Pro_00038.png\n",
      "15 WIN_20180907_15_53_18_Pro_00040.png\n",
      "16 WIN_20180907_15_53_18_Pro_00042.png\n",
      "17 WIN_20180907_15_53_18_Pro_00044.png\n",
      "18 WIN_20180907_15_53_18_Pro_00046.png\n",
      "19 WIN_20180907_15_53_18_Pro_00048.png\n",
      "20 WIN_20180907_15_53_18_Pro_00050.png\n",
      "21 WIN_20180907_15_53_18_Pro_00052.png\n",
      "22 WIN_20180907_15_53_18_Pro_00054.png\n",
      "23 WIN_20180907_15_53_18_Pro_00056.png\n",
      "24 WIN_20180907_15_53_18_Pro_00058.png\n",
      "25 WIN_20180907_15_53_18_Pro_00060.png\n",
      "26 WIN_20180907_15_53_18_Pro_00062.png\n",
      "27 WIN_20180907_15_53_18_Pro_00064.png\n",
      "28 WIN_20180907_15_53_18_Pro_00066.png\n",
      "29 WIN_20180907_15_53_18_Pro_00068.png\n"
     ]
    }
   ],
   "source": [
    "imgs = os.listdir(train_path+'/'+ train_doc[0].split(\",\")[0].split(';')[0])\n",
    "img_file = train_path+'/'+ train_doc[0].split(\",\")[0].split(';')[0]+'/'+imgs[1]\n",
    "#print(train_path, \"\\n\", train_doc[0], \"\\n\", img_file)\n",
    "for idx,img in enumerate(imgs):\n",
    "  print(idx, img)"
   ]
  },
  {
   "cell_type": "code",
   "execution_count": 20,
   "metadata": {
    "colab": {
     "base_uri": "https://localhost:8080/",
     "height": 451
    },
    "id": "Ma2h2nMKubpU",
    "outputId": "d211875c-b5ec-4c31-90dc-cd079657ba5c"
   },
   "outputs": [
    {
     "data": {
      "text/plain": [
       "<matplotlib.image.AxesImage at 0x28d92adb850>"
      ]
     },
     "execution_count": 20,
     "metadata": {},
     "output_type": "execute_result"
    },
    {
     "data": {
      "image/png": "[encoded data removed]",
      "text/plain": [
       "<Figure size 640x480 with 1 Axes>"
      ]
     },
     "metadata": {},
     "output_type": "display_data"
    }
   ],
   "source": [
    "image = io.imread(img_file)\n",
    "plt.imshow(image)\n",
    "image = resize(image, (120, 160))\n",
    "image = image[:,20:140]\n",
    "plt.imshow(image)\n",
    "#cropped_image = image[y1:y2, x1:x2]\n",
    "#plt.imshow(cropped_image)\n",
    "#cropped = image[x1:x2,y1:y2]"
   ]
  },
  {
   "cell_type": "code",
   "execution_count": 21,
   "metadata": {
    "colab": {
     "base_uri": "https://localhost:8080/",
     "height": 377
    },
    "id": "JDf5DfJCuDo5",
    "outputId": "69413e2e-9ba5-439c-af69-f640caa10c86"
   },
   "outputs": [
    {
     "data": {
      "text/plain": [
       "<matplotlib.image.AxesImage at 0x28d91a413d0>"
      ]
     },
     "execution_count": 21,
     "metadata": {},
     "output_type": "execute_result"
    },
    {
     "data": {
      "text/plain": [
       "<Figure size 640x480 with 0 Axes>"
      ]
     },
     "metadata": {},
     "output_type": "display_data"
    },
    {
     "data": {
      "image/png": "[encoded data removed]",
      "text/plain": [
       "<Figure size 640x480 with 3 Axes>"
      ]
     },
     "metadata": {},
     "output_type": "display_data"
    }
   ],
   "source": [
    "#from google.colab.patches import cv2_imshow\n",
    "#image = resize(image, (128, 120))\n",
    "#plt.imshow(image)\n",
    "plt.figure()\n",
    "f, axarr = plt.subplots(3,1) \n",
    "\n",
    "axarr[0].imshow(cv2.normalize(image[:,:,0], None, alpha=0, beta=255, norm_type=cv2.NORM_MINMAX))\n",
    "axarr[1].imshow(cv2.normalize(image[:,:,1], None, alpha=0, beta=255, norm_type=cv2.NORM_MINMAX))\n",
    "axarr[2].imshow(cv2.normalize(image[:,:,2], None, alpha=0, beta=255, norm_type=cv2.NORM_MINMAX))\n",
    "\n"
   ]
  },
  {
   "cell_type": "code",
   "execution_count": 22,
   "metadata": {
    "colab": {
     "base_uri": "https://localhost:8080/",
     "height": 485
    },
    "id": "zpUhZvvizdb4",
    "outputId": "c6ab38db-7848-47ba-8872-07de5969cefb"
   },
   "outputs": [
    {
     "name": "stdout",
     "output_type": "stream",
     "text": [
      "C:/Users/ukhan/Documents/Learning/Python/Jupyter/DeepLearning_CaseStudy_GuestureRecognition/Project_data//train/ \n",
      " WIN_20180907_15_49_58_Pro_Stop Gesture_new;Stop Gesture_new;2 \n",
      " C:/Users/ukhan/Documents/Learning/Python/Jupyter/DeepLearning_CaseStudy_GuestureRecognition/Project_data//train//WIN_20180907_15_49_58_Pro_Stop Gesture_new/WIN_20180907_15_49_58_Pro_00070.png\n"
     ]
    },
    {
     "data": {
      "image/png": "[encoded data removed]",
      "text/plain": [
       "<Figure size 640x480 with 15 Axes>"
      ]
     },
     "metadata": {},
     "output_type": "display_data"
    }
   ],
   "source": [
    "train_doc_inst = 12\n",
    "step=2\n",
    "imgs = os.listdir(train_path+'/'+ train_doc[train_doc_inst].split(\",\")[0].split(';')[0])\n",
    "img_file = train_path+'/'+ train_doc[train_doc_inst].split(\",\")[0].split(';')[0]+'/'+imgs[25]\n",
    "print(train_path, \"\\n\", train_doc[train_doc_inst], \"\\n\", img_file)\n",
    "rows = 5\n",
    "for x in range(math.floor(30/step)):\n",
    "  index = x*step\n",
    "  img_file = train_path+'/'+ train_doc[train_doc_inst].split(\",\")[0].split(';')[0]+'/'+imgs[index]\n",
    "  image = io.imread(img_file)\n",
    "  image = resize(image, (120, 160))\n",
    "  normalized_image = cv2.normalize(image[:,:,0], None, alpha=0, beta=255, norm_type=cv2.NORM_MINMAX)\n",
    "\n",
    "  plt.subplot(rows,6,index+1)\n",
    "  #plt.title(x.split('.')[0])\n",
    "  plt.axis('off')\n",
    "  plt.imshow(image)\n",
    "\n",
    "#plt.imshow(image)\n",
    "\n",
    "#image = resize(image, (120, 128))\n",
    "#plt.imshow(image)\n",
    "#plt.show()\n"
   ]
  },
  {
   "cell_type": "code",
   "execution_count": 53,
   "metadata": {},
   "outputs": [
    {
     "data": {
      "text/plain": [
       "array([ 0,  3,  6, 10, 13, 16, 19, 23, 26, 29])"
      ]
     },
     "execution_count": 53,
     "metadata": {},
     "output_type": "execute_result"
    }
   ],
   "source": []
  },
  {
   "cell_type": "code",
   "execution_count": 57,
   "metadata": {
    "id": "oQ2TYRYQ2nPG"
   },
   "outputs": [],
   "source": [
    "#Generator Configuration\n",
    "img_height = 120\n",
    "img_width = 120\n",
    "x=30 #Number of Frames\n",
    "y=img_height\n",
    "z=img_width"
   ]
  },
  {
   "cell_type": "code",
   "execution_count": 59,
   "metadata": {
    "id": "lrKiiuaAF3my"
   },
   "outputs": [],
   "source": [
    "def generator(source_path, folder_list, batch_size, no_of_frames=30):\n",
    "    print( 'Source path = ', source_path, '; batch size =', batch_size)\n",
    "    #img_idx = [x for x in range(30)] #[(x+1)*2 for x in range(14)] #create a list of image numbers you want to use for a particular video\n",
    "    img_idx = np.round(np.linspace(0, 29, no_of_frames)).astype(int)\n",
    "    while True:\n",
    "        t = np.random.permutation(folder_list)\n",
    "        num_batches = math.floor(len(folder_list)/batch_size) # calculate the number of batches\n",
    "        for batch in range(num_batches): # we iterate over the number of batches\n",
    "            batch_data = np.zeros((batch_size,no_of_frames,y,z,3)) # no_of_frames is the number of images you use for each video, (y,z) is the final size of the input images and 3 is the number of channels RGB\n",
    "            batch_labels = np.zeros((batch_size,5)) # batch_labels is the one hot representation of the output\n",
    "            for folder in range(batch_size): # iterate over the batch_size\n",
    "                imgs = os.listdir(source_path+'/'+ t[folder + (batch*batch_size)].split(';')[0]) # read all the images in the folder\n",
    "                for idx,item in enumerate(img_idx): #  Iterate iver the frames/images of a folder to read them in\n",
    "                    image = imageio.imread(source_path+'/'+ t[folder + (batch*batch_size)].strip().split(';')[0]+'/'+imgs[item]).astype(np.float32)\n",
    "\n",
    "                    image = resize(image, (120, 160)) #Only resizing to smaller size. No cropping applied as the image as slide left and right is covering the x-axis and thumbs-up, thumbs-down is covering y-axis\n",
    "                    image = image[:,20:140] # cropped to consider only the center portion (120x120)\n",
    "                    \n",
    "                    #crop the images and resize them. Note that the images are of 2 different shape\n",
    "                    #and the conv3D will throw error if the inputs in a batch have different shapes\n",
    "\n",
    "                    #normalise and feed in the image\n",
    "                    batch_data[folder,idx,:,:,0] = cv2.normalize(image[:,:,0], None, alpha=0, beta=255, norm_type=cv2.NORM_MINMAX)\n",
    "                    batch_data[folder,idx,:,:,1] = cv2.normalize(image[:,:,1], None, alpha=0, beta=255, norm_type=cv2.NORM_MINMAX)\n",
    "                    batch_data[folder,idx,:,:,2] = cv2.normalize(image[:,:,2], None, alpha=0, beta=255, norm_type=cv2.NORM_MINMAX)\n",
    "\n",
    "                batch_labels[folder, int(t[folder + (batch*batch_size)].strip().split(';')[2])] = 1\n",
    "            yield batch_data, batch_labels #you yield the batch_data and the batch_labels, remember what does yield do\n",
    "\n",
    "\n",
    "        # write the code for the remaining data points which are left after full batches\n",
    "        batch_size = int(len(folder_list)%batch_size) # calculate the number of batches\n",
    "        start_index = int(len(folder_list)/batch_size)\n",
    "        batch_data = np.zeros((batch_size,no_of_frames,y,z,3)) # no_of_frames is the number of images you use for each video, (y,z) is the final size of the input images and 3 is the number of channels RGB\n",
    "        batch_labels = np.zeros((batch_size,5)) # batch_labels is the one hot representation of the output\n",
    "        for folder in range(batch_size): # iterate over the batch_size\n",
    "                imgs = os.listdir(source_path+'/'+ t[start_index + folder].split(';')[0]) # read all the images in the folder\n",
    "                for idx,item in enumerate(img_idx): #  Iterate iver the frames/images of a folder to read them in\n",
    "                    image = imageio.imread(source_path+'/'+ t[start_index + folder].strip().split(';')[0]+'/'+imgs[item]).astype(np.float32)\n",
    "\n",
    "                    image = resize(image, (120, 160)) #Only resizing to smaller size. No cropping applied as the image as slide left and right is covering the x-axis and thumbs-up, thumbs-down is covering y-axis\n",
    "                    image = image[:,20:140] # cropped to consider only the center portion (120x120)\n",
    "                    \n",
    "                    #crop the images and resize them. Note that the images are of 2 different shape\n",
    "                    #and the conv3D will throw error if the inputs in a batch have different shapes\n",
    "\n",
    "                    #normalise and feed in the image\n",
    "                    batch_data[folder,idx,:,:,0] = cv2.normalize(image[:,:,0], None, alpha=0, beta=255, norm_type=cv2.NORM_MINMAX)\n",
    "                    batch_data[folder,idx,:,:,1] = cv2.normalize(image[:,:,1], None, alpha=0, beta=255, norm_type=cv2.NORM_MINMAX)\n",
    "                    batch_data[folder,idx,:,:,2] = cv2.normalize(image[:,:,2], None, alpha=0, beta=255, norm_type=cv2.NORM_MINMAX)\n",
    "\n",
    "                batch_labels[folder, int(t[start_index + folder].strip().split(';')[2])] = 1\n",
    "        yield batch_data, batch_labels #you yield the batch_data and the batch_labels, remember what does yield do"
   ]
  },
  {
   "cell_type": "code",
   "execution_count": 25,
   "metadata": {},
   "outputs": [
    {
     "name": "stdout",
     "output_type": "stream",
     "text": [
      "C:/Users/ukhan/Documents/Learning/Python/Jupyter/DeepLearning_CaseStudy_GuestureRecognition/Project_data//train/ ['WIN_20180907_15_53_18_Pro_Right Swipe_new;Right Swipe_new;1'\n",
      " 'WIN_20180907_15_54_42_Pro_Left Swipe_new_Left Swipe_new;Left Swipe_new_Left Swipe_new;0'\n",
      " 'WIN_20180907_15_58_38_Pro_Thumbs Down_new;Thumbs Down_new;3'\n",
      " 'WIN_20180907_15_51_58_Pro_Right Swipe_new;Right Swipe_new;1'\n",
      " 'WIN_20180907_15_40_55_Pro_Thumbs Up_new;Thumbs Up_new;4'\n",
      " 'WIN_20180907_15_54_06_Pro_Stop Gesture_new;Stop Gesture_new;2'\n",
      " 'WIN_20180907_15_49_56_Pro_Right Swipe_new;Right Swipe_new;1'\n",
      " 'WIN_20180907_15_56_07_Pro_Stop Gesture_new;Stop Gesture_new;2'\n",
      " 'WIN_20180907_15_46_25_Pro_Stop Gesture_new;Stop Gesture_new;2'\n",
      " 'WIN_20180907_15_57_35_Pro_Thumbs Up_new;Thumbs Up_new;4'\n",
      " 'WIN_20180907_15_39_51_Pro_Stop Gesture_new;Stop Gesture_new;2'\n",
      " 'WIN_20180907_15_59_12_Pro_Stop Gesture_new;Stop Gesture_new;2'\n",
      " 'WIN_20180907_15_49_58_Pro_Stop Gesture_new;Stop Gesture_new;2'\n",
      " 'WIN_20180907_15_43_40_Pro_Stop Gesture_new;Stop Gesture_new;2'\n",
      " 'WIN_20180907_15_44_13_Pro_Stop Gesture_new;Stop Gesture_new;2'\n",
      " 'WIN_20180907_15_49_14_Pro_Thumbs Down_new;Thumbs Down_new;3'\n",
      " 'WIN_20180907_15_52_28_Pro_Left Swipe_new_Left Swipe_new;Left Swipe_new_Left Swipe_new;0'\n",
      " 'WIN_20180907_15_54_27_Pro_Thumbs Down_new;Thumbs Down_new;3'\n",
      " 'WIN_20180907_15_56_38_Pro_Right Swipe_new;Right Swipe_new;1'\n",
      " 'WIN_20180907_15_49_02_Pro_Left Swipe_new_Left Swipe_new;Left Swipe_new_Left Swipe_new;0'\n",
      " 'WIN_20180907_15_44_32_Pro_Thumbs Down_new;Thumbs Down_new;3'\n",
      " 'WIN_20180907_15_48_01_Pro_Stop Gesture_new;Stop Gesture_new;2'\n",
      " 'WIN_20180907_15_55_22_Pro_Stop Gesture_new;Stop Gesture_new;2'\n",
      " 'WIN_20180907_15_51_07_Pro_Left Swipe_new_Left Swipe_new;Left Swipe_new_Left Swipe_new;0'\n",
      " 'WIN_20180907_15_35_09_Pro_Right Swipe_new;Right Swipe_new;1'\n",
      " 'WIN_20180907_15_39_54_Pro_Thumbs Up_new;Thumbs Up_new;4'\n",
      " 'WIN_20180907_15_52_03_Pro_Stop Gesture_new;Stop Gesture_new;2'\n",
      " 'WIN_20180907_15_53_00_Pro_Thumbs Down_new;Thumbs Down_new;3'\n",
      " 'WIN_20180907_15_45_56_Pro_Thumbs Down_new;Thumbs Down_new;3'\n",
      " 'WIN_20180907_15_58_45_Pro_Left Swipe_new_Left Swipe_new;Left Swipe_new_Left Swipe_new;0'\n",
      " 'WIN_20180907_15_46_43_Pro_Left Swipe_new_Left Swipe_new;Left Swipe_new_Left Swipe_new;0'\n",
      " 'WIN_20180907_15_45_30_Pro_Thumbs Up_new;Thumbs Up_new;4'\n",
      " 'WIN_20180907_15_38_24_Pro_Right Swipe_new;Right Swipe_new;1'\n",
      " 'WIN_20180907_15_56_32_Pro_Left Swipe_new_Left Swipe_new;Left Swipe_new_Left Swipe_new;0'\n",
      " 'WIN_20180907_15_38_17_Pro_Left Swipe_new_Left Swipe_new;Left Swipe_new_Left Swipe_new;0'\n",
      " 'WIN_20180907_15_44_55_Pro_Stop Gesture_new;Stop Gesture_new;2'\n",
      " 'WIN_20180907_15_50_05_Pro_Left Swipe_new_Left Swipe_new;Left Swipe_new_Left Swipe_new;0'\n",
      " 'WIN_20180907_15_41_54_Pro_Right Swipe_new;Right Swipe_new;1'\n",
      " 'WIN_20180907_15_47_19_Pro_Thumbs Up_new;Thumbs Up_new;4'\n",
      " 'WIN_20180907_15_40_26_Pro_Thumbs Down_new;Thumbs Down_new;3'\n",
      " 'WIN_20180907_15_53_12_Pro_Thumbs Up_new;Thumbs Up_new;4'\n",
      " 'WIN_20180907_15_44_36_Pro_Right Swipe_new;Right Swipe_new;1'\n",
      " 'WIN_20180907_15_57_30_Pro_Stop Gesture_new;Stop Gesture_new;2'\n",
      " 'WIN_20180907_15_43_00_Pro_Left Swipe_new_Left Swipe_new;Left Swipe_new_Left Swipe_new;0'\n",
      " 'WIN_20180907_15_50_33_Pro_Left Swipe_new_Left Swipe_new;Left Swipe_new_Left Swipe_new;0'\n",
      " 'WIN_20180907_15_48_25_Pro_Thumbs Down_new;Thumbs Down_new;3'\n",
      " 'WIN_20180907_15_45_40_Pro_Left Swipe_new_Left Swipe_new;Left Swipe_new_Left Swipe_new;0'\n",
      " 'WIN_20180907_15_56_12_Pro_Thumbs Down_new;Thumbs Down_new;3'\n",
      " 'WIN_20180907_15_43_28_Pro_Right Swipe_new;Right Swipe_new;1'\n",
      " 'WIN_20180907_15_43_58_Pro_Left Swipe_new_Left Swipe_new;Left Swipe_new_Left Swipe_new;0'\n",
      " 'WIN_20180907_15_59_44_Pro_Right Swipe_new;Right Swipe_new;1'\n",
      " 'WIN_20180907_15_58_17_Pro_Left Swipe_new_Left Swipe_new;Left Swipe_new_Left Swipe_new;0'\n",
      " 'WIN_20180907_15_49_59_Pro_Thumbs Up_new;Thumbs Up_new;4'\n",
      " 'WIN_20180907_15_56_26_Pro_Thumbs Up_new;Thumbs Up_new;4'\n",
      " 'WIN_20180907_15_55_27_Pro_Thumbs Down_new;Thumbs Down_new;3'\n",
      " 'WIN_20180907_15_59_28_Pro_Thumbs Up_new;Thumbs Up_new;4'\n",
      " 'WIN_20180907_15_38_35_Pro_Thumbs Down_new;Thumbs Down_new;3'] 5\n",
      "Source path =  C:/Users/ukhan/Documents/Learning/Python/Jupyter/DeepLearning_CaseStudy_GuestureRecognition/Project_data//train/ ; batch size = 5\n",
      "[[0. 0. 1. 0. 0.]\n",
      " [0. 0. 1. 0. 0.]\n",
      " [0. 1. 0. 0. 0.]\n",
      " [1. 0. 0. 0. 0.]\n",
      " [0. 0. 0. 1. 0.]]\n",
      "[[0. 1. 0. 0. 0.]\n",
      " [0. 0. 1. 0. 0.]\n",
      " [1. 0. 0. 0. 0.]\n",
      " [1. 0. 0. 0. 0.]\n",
      " [0. 0. 0. 0. 1.]]\n",
      "[[0. 0. 1. 0. 0.]\n",
      " [0. 1. 0. 0. 0.]\n",
      " [1. 0. 0. 0. 0.]\n",
      " [1. 0. 0. 0. 0.]\n",
      " [0. 0. 0. 0. 1.]]\n",
      "[[0. 1. 0. 0. 0.]\n",
      " [0. 1. 0. 0. 0.]\n",
      " [0. 0. 0. 1. 0.]\n",
      " [0. 0. 0. 0. 1.]\n",
      " [0. 0. 0. 0. 1.]]\n"
     ]
    }
   ],
   "source": [
    "# Test generator function\n",
    "print(train_path, train_doc, batch_size)\n",
    "#print(val_path, val_doc, batch_size)\n",
    "itr=0\n",
    "for batch_data, batch_labels in generator(train_path, train_doc, batch_size):\n",
    "#for batch_data, batch_labels in generator(val_path, val_doc, batch_size):\n",
    "    print(batch_labels)\n",
    "    itr=itr+1\n",
    "    if itr == 4:\n",
    "        break;\n",
    "    \n"
   ]
  },
  {
   "cell_type": "markdown",
   "metadata": {
    "id": "gGyOX41wF3my"
   },
   "source": [
    "Note here that a video is represented above in the generator as (number of images, height, width, number of channels). Take this into consideration while creating the model architecture."
   ]
  },
  {
   "cell_type": "code",
   "execution_count": 58,
   "metadata": {
    "colab": {
     "base_uri": "https://localhost:8080/"
    },
    "id": "xDw--F75F3my",
    "outputId": "e584aed7-8ada-4d1e-cf6a-40d62538616d"
   },
   "outputs": [
    {
     "name": "stdout",
     "output_type": "stream",
     "text": [
      "# epochs = 1\n",
      "# no_classes = 5\n",
      "# image_size = 120,120\n"
     ]
    }
   ],
   "source": [
    "num_epochs = 1 # choose the number of epochs\n",
    "batch_size = 32\n",
    "print ('# epochs =', num_epochs)\n",
    "print ('# no_classes =', no_classes)\n",
    "print ('# image_size = %d,%d'%(img_height, img_width))\n"
   ]
  },
  {
   "cell_type": "markdown",
   "metadata": {
    "id": "NY8OitGjF3my"
   },
   "source": [
    "## Modelling\n",
    "Here you make the model using different functionalities that Keras provides. Remember to use `Conv3D` and `MaxPooling3D` and not `Conv2D` and `Maxpooling2D` for a 3D convolution model. You would want to use `TimeDistributed` while building a Conv2D + RNN model. Also remember that the last layer is the softmax. Design the network in such a way that the model is able to give good accuracy on the least number of parameters so that it can fit in the memory of the webcam."
   ]
  },
  {
   "cell_type": "code",
   "execution_count": 27,
   "metadata": {
    "id": "rUcUuSIyF3my"
   },
   "outputs": [],
   "source": [
    "from keras.models import Sequential, Model\n",
    "from keras.layers import Dense, GRU, Flatten, TimeDistributed, Flatten, BatchNormalization, Activation, Reshape\n",
    "from keras.callbacks import ModelCheckpoint, ReduceLROnPlateau\n",
    "from keras import optimizers\n",
    "\n",
    "#write your model here"
   ]
  },
  {
   "cell_type": "code",
   "execution_count": 45,
   "metadata": {
    "id": "12yg8zRl1JOe"
   },
   "outputs": [],
   "source": [
    "#from keras.layers.convolutional import Conv3D, MaxPooling3D, Conv2D, MaxPooling2D\n",
    "#from keras.layers import Dense, Activation, Dropout, Conv2D, LSTM, MaxPooling2D, Flatten, BatchNormalization --> convolutional not supported"
   ]
  },
  {
   "cell_type": "code",
   "execution_count": 40,
   "metadata": {},
   "outputs": [],
   "source": [
    "def plotModelHistory(h):\n",
    "    fig, ax = plt.subplots(1, 2, figsize=(15,4))\n",
    "    ax[0].plot(h.history['loss'])   \n",
    "    ax[0].plot(h.history['val_loss'])\n",
    "    ax[0].legend(['loss','val_loss'])\n",
    "    ax[0].title.set_text(\"Train loss vs Validation loss\")\n",
    "\n",
    "    ax[1].plot(h.history['categorical_accuracy'])   \n",
    "    ax[1].plot(h.history['val_categorical_accuracy'])\n",
    "    ax[1].legend(['categorical_accuracy','val_categorical_accuracy'])\n",
    "    ax[1].title.set_text(\"Train accuracy vs Validation accuracy\")\n",
    "    plt.show()\n",
    "\n",
    "    print(\"Max. Training Accuracy\", max(h.history['categorical_accuracy']))\n",
    "    print(\"Max. Validaiton Accuracy\", max(h.history['val_categorical_accuracy']))"
   ]
  },
  {
   "cell_type": "markdown",
   "metadata": {
    "id": "MxnPn72gF3mz"
   },
   "source": [
    "Let us create the `train_generator` and the `val_generator` which will be used in `.fit_generator`."
   ]
  },
  {
   "cell_type": "code",
   "execution_count": 30,
   "metadata": {
    "id": "YLW3Y7CUF3mz"
   },
   "outputs": [],
   "source": [
    "train_generator = generator(train_path, train_doc, batch_size, no_of_frames)\n",
    "val_generator = generator(val_path, val_doc, batch_size, no_of_frames)"
   ]
  },
  {
   "cell_type": "code",
   "execution_count": null,
   "metadata": {},
   "outputs": [],
   "source": [
    "def get_model_name(model_name):\n",
    "    model_name_ts = model_name + 'model_init' + '_' + str(curr_dt_time).replace(' ','').replace(':','_') + '/'\n",
    "    if not os.path.exists(model_name):\n",
    "        os.mkdir(model_name)\n",
    "    \n",
    "    return model_name_ts\n"
   ]
  },
  {
   "cell_type": "code",
   "execution_count": 62,
   "metadata": {
    "id": "4XWJt5HUF3m0"
   },
   "outputs": [],
   "source": [
    "def init_model_checkpoint(model_name):\n",
    "    model_name_ts = get_model_name(model_name)\n",
    "    #filepath = model_name + 'model-{epoch:05d}-{loss:.5f}-{categorical_accuracy:.5f}-{val_loss:.5f}-{val_categorical_accuracy:.5f}.h5'\n",
    "    filepath = model_name_ts + 'model-{epoch:05d}-{loss:.5f}-{categorical_accuracy:.5f}-{val_loss:.5f}-{val_categorical_accuracy:.5f}.keras'\n",
    "    checkpoint = ModelCheckpoint(model_checkpoint_path+filepath, monitor='val_loss', verbose=1, save_best_only=False, save_weights_only=False, mode='auto', save_freq='epoch')\n",
    "    LR = ReduceLROnPlateau(monitor='val_loss', factor=0.2,\n",
    "                              patience=5, min_lr=0.001) # write the REducelronplateau code here\n",
    "    callbacks_list = [checkpoint, LR]"
   ]
  },
  {
   "cell_type": "markdown",
   "metadata": {
    "id": "Ah7K0GoCF3m0"
   },
   "source": [
    "The `steps_per_epoch` and `validation_steps` are used by `fit_generator` to decide the number of next() calls it need to make."
   ]
  },
  {
   "cell_type": "code",
   "execution_count": 32,
   "metadata": {
    "id": "XHKdPWBCF3m0"
   },
   "outputs": [],
   "source": [
    "if (num_train_sequences%batch_size) == 0:\n",
    "    steps_per_epoch = int(num_train_sequences/batch_size)\n",
    "else:\n",
    "    steps_per_epoch = (num_train_sequences//batch_size) + 1\n",
    "\n",
    "if (num_val_sequences%batch_size) == 0:\n",
    "    validation_steps = int(num_val_sequences/batch_size)\n",
    "else:\n",
    "    validation_steps = (num_val_sequences//batch_size) + 1"
   ]
  },
  {
   "cell_type": "code",
   "execution_count": 33,
   "metadata": {},
   "outputs": [
    {
     "name": "stdout",
     "output_type": "stream",
     "text": [
      "num_train_sequences = 57, num_val_sequences = 13, batch_size = 5\n",
      "# steps_per_epoch = 12\n",
      "# validation_steps = 3\n",
      "# num_epochs = 1\n"
     ]
    }
   ],
   "source": [
    "print(\"num_train_sequences = %d, num_val_sequences = %d, batch_size = %d\"%(num_train_sequences,num_val_sequences, batch_size))\n",
    "print(\"# steps_per_epoch =\", steps_per_epoch)\n",
    "print(\"# validation_steps =\", validation_steps)\n",
    "print(\"# num_epochs =\", num_epochs)"
   ]
  },
  {
   "cell_type": "code",
   "execution_count": 55,
   "metadata": {},
   "outputs": [],
   "source": [
    "#train_generator()"
   ]
  },
  {
   "cell_type": "markdown",
   "metadata": {
    "id": "b8qhl1ebF3m0"
   },
   "source": [
    "Let us now fit the model. This will start training the model and with the help of the checkpoints, you'll be able to save the model at the end of each epoch."
   ]
  },
  {
   "cell_type": "markdown",
   "metadata": {
    "id": "2Dr_Luneck-c"
   },
   "source": [
    "# **Conv3D without Drop-outs**\n"
   ]
  },
  {
   "cell_type": "code",
   "execution_count": 46,
   "metadata": {},
   "outputs": [
    {
     "name": "stdout",
     "output_type": "stream",
     "text": [
      "# batch_size = 5\n",
      "# epochs = 1\n",
      "# no_classes = 5\n",
      "# input_shape = (30,120,120,3)\n"
     ]
    }
   ],
   "source": [
    "# Model1: CNN conv3D hyper-parameter configuration\n",
    "batch_size=5\n",
    "num_epochs = 1\n",
    "no_of_frames=30 # Number of frames\n",
    "y=img_height\n",
    "z=img_width\n",
    "\n",
    "print ('# batch_size =', batch_size)\n",
    "print ('# epochs =', num_epochs)\n",
    "print ('# no_classes =', no_classes)\n",
    "print ('# input_shape = (%d,%d,%d,%d)'%(no_of_frames, img_height, img_width,3))\n",
    "#print(batch_size, x, y, z, 3)"
   ]
  },
  {
   "cell_type": "code",
   "execution_count": 61,
   "metadata": {
    "id": "K2IuQ8Nq1NXZ"
   },
   "outputs": [],
   "source": [
    "#Write model using Conv3D and MaxPooling3D\n",
    "conv3d_model = Sequential()\n",
    "conv3d_model.add(Input((no_of_frames, y, z, 3)))\n",
    "#conv3d_model.add(Conv3D(16, kernel_size=(3, 3, 3), activation='relu', kernel_initializer='he_uniform', input_shape=(batch_size, img_height,img_width,3)))\n",
    "conv3d_model.add(Conv3D(16, kernel_size=(3, 3, 3), activation='relu'))\n",
    "conv3d_model.add(MaxPooling3D(pool_size=(2, 2, 2)))\n",
    "conv3d_model.add(BatchNormalization())\n",
    "conv3d_model.add(Conv3D(32, kernel_size=(3, 3, 3), activation='relu'))\n",
    "conv3d_model.add(MaxPooling3D(pool_size=(2, 2, 2)))\n",
    "conv3d_model.add(BatchNormalization())\n",
    "conv3d_model.add(Conv3D(64, kernel_size=(3, 3, 3), activation='relu'))\n",
    "conv3d_model.add(MaxPooling3D(pool_size=(2, 2, 2)))\n",
    "conv3d_model.add(BatchNormalization())\n",
    "conv3d_model.add(Flatten())\n",
    "conv3d_model.add(Dense(128, activation='relu'))\n",
    "conv3d_model.add(BatchNormalization())\n",
    "conv3d_model.add(Dense(64, activation='relu'))\n",
    "conv3d_model.add(BatchNormalization())\n",
    "conv3d_model.add(Dense(no_classes, activation='softmax'))"
   ]
  },
  {
   "cell_type": "markdown",
   "metadata": {
    "id": "eFjOc-BsF3mz"
   },
   "source": [
    "Now that you have written the model, the next step is to `compile` the model. When you print the `summary` of the model, you'll see the total number of parameters you have to train."
   ]
  },
  {
   "cell_type": "code",
   "execution_count": 44,
   "metadata": {
    "id": "he5_2d_6F3mz",
    "scrolled": true
   },
   "outputs": [
    {
     "data": {
      "text/html": [
       "<pre style=\"white-space:pre;overflow-x:auto;line-height:normal;font-family:Menlo,'DejaVu Sans Mono',consolas,'Courier New',monospace\"><span style=\"font-weight: bold\">Model: \"sequential_1\"</span>\n",
       "</pre>\n"
      ],
      "text/plain": [
       "\u001b[1mModel: \"sequential_1\"\u001b[0m\n"
      ]
     },
     "metadata": {},
     "output_type": "display_data"
    },
    {
     "data": {
      "text/html": [
       "<pre style=\"white-space:pre;overflow-x:auto;line-height:normal;font-family:Menlo,'DejaVu Sans Mono',consolas,'Courier New',monospace\">┏━━━━━━━━━━━━━━━━━━━━━━━━━━━━━━━━━┳━━━━━━━━━━━━━━━━━━━━━━━━┳━━━━━━━━━━━━━━━┓\n",
       "┃<span style=\"font-weight: bold\"> Layer (type)                    </span>┃<span style=\"font-weight: bold\"> Output Shape           </span>┃<span style=\"font-weight: bold\">       Param # </span>┃\n",
       "┡━━━━━━━━━━━━━━━━━━━━━━━━━━━━━━━━━╇━━━━━━━━━━━━━━━━━━━━━━━━╇━━━━━━━━━━━━━━━┩\n",
       "│ conv3d_2 (<span style=\"color: #0087ff; text-decoration-color: #0087ff\">Conv3D</span>)               │ (<span style=\"color: #00d7ff; text-decoration-color: #00d7ff\">None</span>, <span style=\"color: #00af00; text-decoration-color: #00af00\">28</span>, <span style=\"color: #00af00; text-decoration-color: #00af00\">118</span>, <span style=\"color: #00af00; text-decoration-color: #00af00\">118</span>,   │         <span style=\"color: #00af00; text-decoration-color: #00af00\">1,312</span> │\n",
       "│                                 │ <span style=\"color: #00af00; text-decoration-color: #00af00\">16</span>)                    │               │\n",
       "├─────────────────────────────────┼────────────────────────┼───────────────┤\n",
       "│ batch_normalization_2           │ (<span style=\"color: #00d7ff; text-decoration-color: #00d7ff\">None</span>, <span style=\"color: #00af00; text-decoration-color: #00af00\">28</span>, <span style=\"color: #00af00; text-decoration-color: #00af00\">118</span>, <span style=\"color: #00af00; text-decoration-color: #00af00\">118</span>,   │            <span style=\"color: #00af00; text-decoration-color: #00af00\">64</span> │\n",
       "│ (<span style=\"color: #0087ff; text-decoration-color: #0087ff\">BatchNormalization</span>)            │ <span style=\"color: #00af00; text-decoration-color: #00af00\">16</span>)                    │               │\n",
       "├─────────────────────────────────┼────────────────────────┼───────────────┤\n",
       "│ max_pooling3d_2 (<span style=\"color: #0087ff; text-decoration-color: #0087ff\">MaxPooling3D</span>)  │ (<span style=\"color: #00d7ff; text-decoration-color: #00d7ff\">None</span>, <span style=\"color: #00af00; text-decoration-color: #00af00\">14</span>, <span style=\"color: #00af00; text-decoration-color: #00af00\">59</span>, <span style=\"color: #00af00; text-decoration-color: #00af00\">59</span>, <span style=\"color: #00af00; text-decoration-color: #00af00\">16</span>) │             <span style=\"color: #00af00; text-decoration-color: #00af00\">0</span> │\n",
       "├─────────────────────────────────┼────────────────────────┼───────────────┤\n",
       "│ conv3d_3 (<span style=\"color: #0087ff; text-decoration-color: #0087ff\">Conv3D</span>)               │ (<span style=\"color: #00d7ff; text-decoration-color: #00d7ff\">None</span>, <span style=\"color: #00af00; text-decoration-color: #00af00\">12</span>, <span style=\"color: #00af00; text-decoration-color: #00af00\">57</span>, <span style=\"color: #00af00; text-decoration-color: #00af00\">57</span>, <span style=\"color: #00af00; text-decoration-color: #00af00\">32</span>) │        <span style=\"color: #00af00; text-decoration-color: #00af00\">13,856</span> │\n",
       "├─────────────────────────────────┼────────────────────────┼───────────────┤\n",
       "│ batch_normalization_3           │ (<span style=\"color: #00d7ff; text-decoration-color: #00d7ff\">None</span>, <span style=\"color: #00af00; text-decoration-color: #00af00\">12</span>, <span style=\"color: #00af00; text-decoration-color: #00af00\">57</span>, <span style=\"color: #00af00; text-decoration-color: #00af00\">57</span>, <span style=\"color: #00af00; text-decoration-color: #00af00\">32</span>) │           <span style=\"color: #00af00; text-decoration-color: #00af00\">128</span> │\n",
       "│ (<span style=\"color: #0087ff; text-decoration-color: #0087ff\">BatchNormalization</span>)            │                        │               │\n",
       "├─────────────────────────────────┼────────────────────────┼───────────────┤\n",
       "│ max_pooling3d_3 (<span style=\"color: #0087ff; text-decoration-color: #0087ff\">MaxPooling3D</span>)  │ (<span style=\"color: #00d7ff; text-decoration-color: #00d7ff\">None</span>, <span style=\"color: #00af00; text-decoration-color: #00af00\">6</span>, <span style=\"color: #00af00; text-decoration-color: #00af00\">28</span>, <span style=\"color: #00af00; text-decoration-color: #00af00\">28</span>, <span style=\"color: #00af00; text-decoration-color: #00af00\">32</span>)  │             <span style=\"color: #00af00; text-decoration-color: #00af00\">0</span> │\n",
       "├─────────────────────────────────┼────────────────────────┼───────────────┤\n",
       "│ flatten_1 (<span style=\"color: #0087ff; text-decoration-color: #0087ff\">Flatten</span>)             │ (<span style=\"color: #00d7ff; text-decoration-color: #00d7ff\">None</span>, <span style=\"color: #00af00; text-decoration-color: #00af00\">150528</span>)         │             <span style=\"color: #00af00; text-decoration-color: #00af00\">0</span> │\n",
       "├─────────────────────────────────┼────────────────────────┼───────────────┤\n",
       "│ dense_2 (<span style=\"color: #0087ff; text-decoration-color: #0087ff\">Dense</span>)                 │ (<span style=\"color: #00d7ff; text-decoration-color: #00d7ff\">None</span>, <span style=\"color: #00af00; text-decoration-color: #00af00\">32</span>)             │     <span style=\"color: #00af00; text-decoration-color: #00af00\">4,816,928</span> │\n",
       "├─────────────────────────────────┼────────────────────────┼───────────────┤\n",
       "│ dense_3 (<span style=\"color: #0087ff; text-decoration-color: #0087ff\">Dense</span>)                 │ (<span style=\"color: #00d7ff; text-decoration-color: #00d7ff\">None</span>, <span style=\"color: #00af00; text-decoration-color: #00af00\">5</span>)              │           <span style=\"color: #00af00; text-decoration-color: #00af00\">165</span> │\n",
       "└─────────────────────────────────┴────────────────────────┴───────────────┘\n",
       "</pre>\n"
      ],
      "text/plain": [
       "┏━━━━━━━━━━━━━━━━━━━━━━━━━━━━━━━━━┳━━━━━━━━━━━━━━━━━━━━━━━━┳━━━━━━━━━━━━━━━┓\n",
       "┃\u001b[1m \u001b[0m\u001b[1mLayer (type)                   \u001b[0m\u001b[1m \u001b[0m┃\u001b[1m \u001b[0m\u001b[1mOutput Shape          \u001b[0m\u001b[1m \u001b[0m┃\u001b[1m \u001b[0m\u001b[1m      Param #\u001b[0m\u001b[1m \u001b[0m┃\n",
       "┡━━━━━━━━━━━━━━━━━━━━━━━━━━━━━━━━━╇━━━━━━━━━━━━━━━━━━━━━━━━╇━━━━━━━━━━━━━━━┩\n",
       "│ conv3d_2 (\u001b[38;5;33mConv3D\u001b[0m)               │ (\u001b[38;5;45mNone\u001b[0m, \u001b[38;5;34m28\u001b[0m, \u001b[38;5;34m118\u001b[0m, \u001b[38;5;34m118\u001b[0m,   │         \u001b[38;5;34m1,312\u001b[0m │\n",
       "│                                 │ \u001b[38;5;34m16\u001b[0m)                    │               │\n",
       "├─────────────────────────────────┼────────────────────────┼───────────────┤\n",
       "│ batch_normalization_2           │ (\u001b[38;5;45mNone\u001b[0m, \u001b[38;5;34m28\u001b[0m, \u001b[38;5;34m118\u001b[0m, \u001b[38;5;34m118\u001b[0m,   │            \u001b[38;5;34m64\u001b[0m │\n",
       "│ (\u001b[38;5;33mBatchNormalization\u001b[0m)            │ \u001b[38;5;34m16\u001b[0m)                    │               │\n",
       "├─────────────────────────────────┼────────────────────────┼───────────────┤\n",
       "│ max_pooling3d_2 (\u001b[38;5;33mMaxPooling3D\u001b[0m)  │ (\u001b[38;5;45mNone\u001b[0m, \u001b[38;5;34m14\u001b[0m, \u001b[38;5;34m59\u001b[0m, \u001b[38;5;34m59\u001b[0m, \u001b[38;5;34m16\u001b[0m) │             \u001b[38;5;34m0\u001b[0m │\n",
       "├─────────────────────────────────┼────────────────────────┼───────────────┤\n",
       "│ conv3d_3 (\u001b[38;5;33mConv3D\u001b[0m)               │ (\u001b[38;5;45mNone\u001b[0m, \u001b[38;5;34m12\u001b[0m, \u001b[38;5;34m57\u001b[0m, \u001b[38;5;34m57\u001b[0m, \u001b[38;5;34m32\u001b[0m) │        \u001b[38;5;34m13,856\u001b[0m │\n",
       "├─────────────────────────────────┼────────────────────────┼───────────────┤\n",
       "│ batch_normalization_3           │ (\u001b[38;5;45mNone\u001b[0m, \u001b[38;5;34m12\u001b[0m, \u001b[38;5;34m57\u001b[0m, \u001b[38;5;34m57\u001b[0m, \u001b[38;5;34m32\u001b[0m) │           \u001b[38;5;34m128\u001b[0m │\n",
       "│ (\u001b[38;5;33mBatchNormalization\u001b[0m)            │                        │               │\n",
       "├─────────────────────────────────┼────────────────────────┼───────────────┤\n",
       "│ max_pooling3d_3 (\u001b[38;5;33mMaxPooling3D\u001b[0m)  │ (\u001b[38;5;45mNone\u001b[0m, \u001b[38;5;34m6\u001b[0m, \u001b[38;5;34m28\u001b[0m, \u001b[38;5;34m28\u001b[0m, \u001b[38;5;34m32\u001b[0m)  │             \u001b[38;5;34m0\u001b[0m │\n",
       "├─────────────────────────────────┼────────────────────────┼───────────────┤\n",
       "│ flatten_1 (\u001b[38;5;33mFlatten\u001b[0m)             │ (\u001b[38;5;45mNone\u001b[0m, \u001b[38;5;34m150528\u001b[0m)         │             \u001b[38;5;34m0\u001b[0m │\n",
       "├─────────────────────────────────┼────────────────────────┼───────────────┤\n",
       "│ dense_2 (\u001b[38;5;33mDense\u001b[0m)                 │ (\u001b[38;5;45mNone\u001b[0m, \u001b[38;5;34m32\u001b[0m)             │     \u001b[38;5;34m4,816,928\u001b[0m │\n",
       "├─────────────────────────────────┼────────────────────────┼───────────────┤\n",
       "│ dense_3 (\u001b[38;5;33mDense\u001b[0m)                 │ (\u001b[38;5;45mNone\u001b[0m, \u001b[38;5;34m5\u001b[0m)              │           \u001b[38;5;34m165\u001b[0m │\n",
       "└─────────────────────────────────┴────────────────────────┴───────────────┘\n"
      ]
     },
     "metadata": {},
     "output_type": "display_data"
    },
    {
     "data": {
      "text/html": [
       "<pre style=\"white-space:pre;overflow-x:auto;line-height:normal;font-family:Menlo,'DejaVu Sans Mono',consolas,'Courier New',monospace\"><span style=\"font-weight: bold\"> Total params: </span><span style=\"color: #00af00; text-decoration-color: #00af00\">4,832,453</span> (18.43 MB)\n",
       "</pre>\n"
      ],
      "text/plain": [
       "\u001b[1m Total params: \u001b[0m\u001b[38;5;34m4,832,453\u001b[0m (18.43 MB)\n"
      ]
     },
     "metadata": {},
     "output_type": "display_data"
    },
    {
     "data": {
      "text/html": [
       "<pre style=\"white-space:pre;overflow-x:auto;line-height:normal;font-family:Menlo,'DejaVu Sans Mono',consolas,'Courier New',monospace\"><span style=\"font-weight: bold\"> Trainable params: </span><span style=\"color: #00af00; text-decoration-color: #00af00\">4,832,357</span> (18.43 MB)\n",
       "</pre>\n"
      ],
      "text/plain": [
       "\u001b[1m Trainable params: \u001b[0m\u001b[38;5;34m4,832,357\u001b[0m (18.43 MB)\n"
      ]
     },
     "metadata": {},
     "output_type": "display_data"
    },
    {
     "data": {
      "text/html": [
       "<pre style=\"white-space:pre;overflow-x:auto;line-height:normal;font-family:Menlo,'DejaVu Sans Mono',consolas,'Courier New',monospace\"><span style=\"font-weight: bold\"> Non-trainable params: </span><span style=\"color: #00af00; text-decoration-color: #00af00\">96</span> (384.00 B)\n",
       "</pre>\n"
      ],
      "text/plain": [
       "\u001b[1m Non-trainable params: \u001b[0m\u001b[38;5;34m96\u001b[0m (384.00 B)\n"
      ]
     },
     "metadata": {},
     "output_type": "display_data"
    },
    {
     "name": "stdout",
     "output_type": "stream",
     "text": [
      "None\n"
     ]
    }
   ],
   "source": [
    "learning_rate = 0.1\n",
    "optimiser = tf.keras.optimizers.Adam(learning_rate=learning_rate) #write your optimizer\n",
    "conv3d_model.compile(optimizer=optimiser, loss='categorical_crossentropy', metrics=['categorical_accuracy'])\n",
    "print (conv3d_model.summary())"
   ]
  },
  {
   "cell_type": "code",
   "execution_count": 49,
   "metadata": {
    "id": "TF5HYOwjF3m0"
   },
   "outputs": [
    {
     "name": "stdout",
     "output_type": "stream",
     "text": [
      "Source path =  C:/Users/ukhan/Documents/Learning/Python/Jupyter/DeepLearning_CaseStudy_GuestureRecognition/Project_data//train/ ; batch size = 5\n",
      "folder =  0\n",
      "folder =  1\n",
      "folder =  2\n",
      "folder =  3\n",
      "folder =  4\n",
      "folder =  0\n",
      "folder =  1\n",
      "folder =  2\n",
      "folder =  3\n",
      "folder =  4\n",
      "\u001b[1m 1/12\u001b[0m \u001b[32m━\u001b[0m\u001b[37m━━━━━━━━━━━━━━━━━━━\u001b[0m \u001b[1m57s\u001b[0m 5s/step - categorical_accuracy: 0.0000e+00 - loss: 3.9520folder =  0\n",
      "\u001b[1m 2/12\u001b[0m \u001b[32m━━━\u001b[0m\u001b[37m━━━━━━━━━━━━━━━━━\u001b[0m \u001b[1m7s\u001b[0m 751ms/step - categorical_accuracy: 0.0500 - loss: 772.4761folder =  1\n",
      "folder =  2\n",
      "folder =  3\n",
      "folder =  4\n",
      "folder =  0\n",
      "\u001b[1m 3/12\u001b[0m \u001b[32m━━━━━\u001b[0m\u001b[37m━━━━━━━━━━━━━━━\u001b[0m \u001b[1m28s\u001b[0m 3s/step - categorical_accuracy: 0.0556 - loss: 1111.1254 folder =  1\n",
      "folder =  2\n",
      "folder =  3\n",
      "folder =  4\n",
      "folder =  0\n",
      "\u001b[1m 4/12\u001b[0m \u001b[32m━━━━━━\u001b[0m\u001b[37m━━━━━━━━━━━━━━\u001b[0m \u001b[1m31s\u001b[0m 4s/step - categorical_accuracy: 0.0792 - loss: 1489.7844folder =  1\n",
      "folder =  2\n",
      "folder =  3\n",
      "folder =  4\n",
      "folder =  0\n",
      "\u001b[1m 5/12\u001b[0m \u001b[32m━━━━━━━━\u001b[0m\u001b[37m━━━━━━━━━━━━\u001b[0m \u001b[1m30s\u001b[0m 4s/step - categorical_accuracy: 0.1113 - loss: 1632.8550folder =  1\n",
      "folder =  2\n",
      "folder =  3\n",
      "folder =  4\n",
      "folder =  0\n",
      "\u001b[1m 6/12\u001b[0m \u001b[32m━━━━━━━━━━\u001b[0m\u001b[37m━━━━━━━━━━\u001b[0m \u001b[1m27s\u001b[0m 5s/step - categorical_accuracy: 0.1317 - loss: 1730.0790folder =  1\n",
      "folder =  2\n",
      "folder =  3\n",
      "folder =  4\n",
      "folder =  0\n",
      "\u001b[1m 7/12\u001b[0m \u001b[32m━━━━━━━━━━━\u001b[0m\u001b[37m━━━━━━━━━\u001b[0m \u001b[1m23s\u001b[0m 5s/step - categorical_accuracy: 0.1455 - loss: 1765.6671folder =  1\n",
      "folder =  2\n",
      "folder =  3\n",
      "folder =  4\n",
      "folder =  0\n",
      "\u001b[1m 8/12\u001b[0m \u001b[32m━━━━━━━━━━━━━\u001b[0m\u001b[37m━━━━━━━\u001b[0m \u001b[1m19s\u001b[0m 5s/step - categorical_accuracy: 0.1554 - loss: 1766.2313folder =  1\n",
      "folder =  2\n",
      "folder =  3\n",
      "folder =  4\n",
      "folder =  0\n",
      "\u001b[1m 9/12\u001b[0m \u001b[32m━━━━━━━━━━━━━━━\u001b[0m\u001b[37m━━━━━\u001b[0m \u001b[1m15s\u001b[0m 5s/step - categorical_accuracy: 0.1678 - loss: 1751.0444folder =  1\n",
      "folder =  2\n",
      "folder =  3\n",
      "folder =  4\n",
      "folder =  0\n",
      "\u001b[1m10/12\u001b[0m \u001b[32m━━━━━━━━━━━━━━━━\u001b[0m\u001b[37m━━━━\u001b[0m \u001b[1m10s\u001b[0m 5s/step - categorical_accuracy: 0.1790 - loss: 1728.7808folder =  1\n",
      "folder =  2\n",
      "folder =  3\n",
      "folder =  4\n",
      "folder =  0\n",
      "\u001b[1m11/12\u001b[0m \u001b[32m━━━━━━━━━━━━━━━━━━\u001b[0m\u001b[37m━━\u001b[0m \u001b[1m5s\u001b[0m 5s/step - categorical_accuracy: 0.1875 - loss: 1698.2405 folder =  1\n",
      "folder =  2\n",
      "folder =  3\n",
      "folder =  4\n",
      "folder =  0\n",
      "\u001b[1m12/12\u001b[0m \u001b[32m━━━━━━━━━━━━━━━━━━━━\u001b[0m\u001b[37m\u001b[0m \u001b[1m0s\u001b[0m 5s/step - categorical_accuracy: 0.1941 - loss: 1663.7288Source path =  C:/Users/ukhan/Documents/Learning/Python/Jupyter/DeepLearning_CaseStudy_GuestureRecognition/Project_data//val/ ; batch size = 5\n",
      "folder =  0\n",
      "folder =  1\n",
      "folder =  1\n",
      "folder =  2\n",
      "folder =  2\n",
      "folder =  3\n",
      "folder =  3\n",
      "folder =  4\n",
      "folder =  4\n",
      "folder =  0\n",
      "folder =  0\n",
      "folder =  1\n",
      "folder =  1\n",
      "folder =  2\n",
      "folder =  2\n",
      "folder =  3\n",
      "folder =  3\n",
      "folder =  4\n",
      "folder =  4\n",
      "folder =  0\n",
      "folder =  1\n",
      "folder =  2\n",
      "folder =  3\n",
      "folder =  4\n",
      "folder =  0\n",
      "\n",
      "Epoch 1: saving model to C:/Users/ukhan/Documents/Learning/Python/Jupyter/DeepLearning_CaseStudy_GuestureRecognition/model_init_2024-07-3017_40_23.697211/model-00001-1284.09949-0.26667-64825.33203-0.20000.keras\n",
      "\u001b[1m12/12\u001b[0m \u001b[32m━━━━━━━━━━━━━━━━━━━━\u001b[0m\u001b[37m\u001b[0m \u001b[1m79s\u001b[0m 7s/step - categorical_accuracy: 0.1997 - loss: 1634.5265 - val_categorical_accuracy: 0.2000 - val_loss: 64825.3320 - learning_rate: 0.1000\n",
      "folder =  1\n",
      "folder =  2\n",
      "folder =  3\n",
      "folder =  4\n"
     ]
    },
    {
     "data": {
      "text/plain": [
       "<keras.src.callbacks.history.History at 0x24dbecd24d0>"
      ]
     },
     "execution_count": 49,
     "metadata": {},
     "output_type": "execute_result"
    }
   ],
   "source": [
    "#conv3d_model.fit(train_generator, epochs=2, validation_data=val_generator, callbacks=callbacks_list)\n",
    "init_model_checkpoint('cnn_conv3d_without_dropouts')\n",
    "cnn_model_history = conv3d_model.fit(train_generator, steps_per_epoch=steps_per_epoch, epochs=num_epochs, verbose=1,\n",
    "                    callbacks=callbacks_list, validation_data=val_generator,\n",
    "                    validation_steps=validation_steps)#, initial_epoch=0)"
   ]
  },
  {
   "cell_type": "code",
   "execution_count": null,
   "metadata": {},
   "outputs": [],
   "source": [
    "#Plot CNN Model History with Conv3D\n",
    "plotModelHistory(cnn_model_history)"
   ]
  },
  {
   "cell_type": "markdown",
   "metadata": {
    "id": "fj9LSYs7Z-A2"
   },
   "source": []
  },
  {
   "cell_type": "markdown",
   "metadata": {},
   "source": [
    "# Conv3D with dropouts"
   ]
  },
  {
   "cell_type": "code",
   "execution_count": 46,
   "metadata": {},
   "outputs": [
    {
     "name": "stdout",
     "output_type": "stream",
     "text": [
      "# batch_size = 5\n",
      "# epochs = 1\n",
      "# no_classes = 5\n",
      "# input_shape = (30,120,120,3)\n"
     ]
    }
   ],
   "source": [
    "# Model1: CNN conv3D hyper-parameter configuration\n",
    "batch_size=5\n",
    "num_epochs = 1\n",
    "no_of_frames=30 # Number of frames\n",
    "y=img_height\n",
    "z=img_width\n",
    "\n",
    "print ('# batch_size =', batch_size)\n",
    "print ('# epochs =', num_epochs)\n",
    "print ('# no_classes =', no_classes)\n",
    "print ('# input_shape = (%d,%d,%d,%d)'%(no_of_frames, img_height, img_width,3))\n",
    "#print(batch_size, x, y, z, 3)"
   ]
  },
  {
   "cell_type": "code",
   "execution_count": 61,
   "metadata": {
    "id": "K2IuQ8Nq1NXZ"
   },
   "outputs": [],
   "source": [
    "#Write model using Conv3D and MaxPooling3D\n",
    "conv3d_with_dropout_model = Sequential()\n",
    "conv3d_with_dropout_model.add(Input((no_of_frames, y, z, 3)))\n",
    "#conv3d_model.add(Conv3D(16, kernel_size=(3, 3, 3), activation='relu', kernel_initializer='he_uniform', input_shape=(batch_size, img_height,img_width,3)))\n",
    "conv3d_with_dropout_model.add(Conv3D(16, kernel_size=(3, 3, 3), activation='relu'))\n",
    "conv3d_with_dropout_model.add(MaxPooling3D(pool_size=(2, 2, 2)))\n",
    "conv3d_with_dropout_model.add(BatchNormalization())\n",
    "conv3d_with_dropout_model.add(Conv3D(32, kernel_size=(3, 3, 3), activation='relu'))\n",
    "conv3d_with_dropout_model.add(MaxPooling3D(pool_size=(2, 2, 2)))\n",
    "conv3d_with_dropout_model.add(BatchNormalization())\n",
    "conv3d_with_dropout_model.add(Conv3D(64, kernel_size=(3, 3, 3), activation='relu'))\n",
    "conv3d_with_dropout_model.add(MaxPooling3D(pool_size=(2, 2, 2)))\n",
    "conv3d_with_dropout_model.add(BatchNormalization())\n",
    "conv3d_with_dropout_model.add(Flatten())\n",
    "conv3d_with_dropout_model.add(Dense(128, activation='relu'))\n",
    "conv3d_with_dropout_model.add(BatchNormalization())\n",
    "conv3d_with_dropout_model.add(Dropout(0.25))\n",
    "conv3d_with_dropout_model.add(Dense(64, activation='relu'))\n",
    "conv3d_with_dropout_model.add(BatchNormalization())\n",
    "conv3d_with_dropout_model.add(Dropout(0.25))\n",
    "conv3d_with_dropout_model.add(Dense(no_classes, activation='softmax'))"
   ]
  },
  {
   "cell_type": "markdown",
   "metadata": {
    "id": "eFjOc-BsF3mz"
   },
   "source": [
    "Now that you have written the model, the next step is to `compile` the model. When you print the `summary` of the model, you'll see the total number of parameters you have to train."
   ]
  },
  {
   "cell_type": "code",
   "execution_count": 44,
   "metadata": {
    "id": "he5_2d_6F3mz",
    "scrolled": true
   },
   "outputs": [
    {
     "data": {
      "text/html": [
       "<pre style=\"white-space:pre;overflow-x:auto;line-height:normal;font-family:Menlo,'DejaVu Sans Mono',consolas,'Courier New',monospace\"><span style=\"font-weight: bold\">Model: \"sequential_1\"</span>\n",
       "</pre>\n"
      ],
      "text/plain": [
       "\u001b[1mModel: \"sequential_1\"\u001b[0m\n"
      ]
     },
     "metadata": {},
     "output_type": "display_data"
    },
    {
     "data": {
      "text/html": [
       "<pre style=\"white-space:pre;overflow-x:auto;line-height:normal;font-family:Menlo,'DejaVu Sans Mono',consolas,'Courier New',monospace\">┏━━━━━━━━━━━━━━━━━━━━━━━━━━━━━━━━━┳━━━━━━━━━━━━━━━━━━━━━━━━┳━━━━━━━━━━━━━━━┓\n",
       "┃<span style=\"font-weight: bold\"> Layer (type)                    </span>┃<span style=\"font-weight: bold\"> Output Shape           </span>┃<span style=\"font-weight: bold\">       Param # </span>┃\n",
       "┡━━━━━━━━━━━━━━━━━━━━━━━━━━━━━━━━━╇━━━━━━━━━━━━━━━━━━━━━━━━╇━━━━━━━━━━━━━━━┩\n",
       "│ conv3d_2 (<span style=\"color: #0087ff; text-decoration-color: #0087ff\">Conv3D</span>)               │ (<span style=\"color: #00d7ff; text-decoration-color: #00d7ff\">None</span>, <span style=\"color: #00af00; text-decoration-color: #00af00\">28</span>, <span style=\"color: #00af00; text-decoration-color: #00af00\">118</span>, <span style=\"color: #00af00; text-decoration-color: #00af00\">118</span>,   │         <span style=\"color: #00af00; text-decoration-color: #00af00\">1,312</span> │\n",
       "│                                 │ <span style=\"color: #00af00; text-decoration-color: #00af00\">16</span>)                    │               │\n",
       "├─────────────────────────────────┼────────────────────────┼───────────────┤\n",
       "│ batch_normalization_2           │ (<span style=\"color: #00d7ff; text-decoration-color: #00d7ff\">None</span>, <span style=\"color: #00af00; text-decoration-color: #00af00\">28</span>, <span style=\"color: #00af00; text-decoration-color: #00af00\">118</span>, <span style=\"color: #00af00; text-decoration-color: #00af00\">118</span>,   │            <span style=\"color: #00af00; text-decoration-color: #00af00\">64</span> │\n",
       "│ (<span style=\"color: #0087ff; text-decoration-color: #0087ff\">BatchNormalization</span>)            │ <span style=\"color: #00af00; text-decoration-color: #00af00\">16</span>)                    │               │\n",
       "├─────────────────────────────────┼────────────────────────┼───────────────┤\n",
       "│ max_pooling3d_2 (<span style=\"color: #0087ff; text-decoration-color: #0087ff\">MaxPooling3D</span>)  │ (<span style=\"color: #00d7ff; text-decoration-color: #00d7ff\">None</span>, <span style=\"color: #00af00; text-decoration-color: #00af00\">14</span>, <span style=\"color: #00af00; text-decoration-color: #00af00\">59</span>, <span style=\"color: #00af00; text-decoration-color: #00af00\">59</span>, <span style=\"color: #00af00; text-decoration-color: #00af00\">16</span>) │             <span style=\"color: #00af00; text-decoration-color: #00af00\">0</span> │\n",
       "├─────────────────────────────────┼────────────────────────┼───────────────┤\n",
       "│ conv3d_3 (<span style=\"color: #0087ff; text-decoration-color: #0087ff\">Conv3D</span>)               │ (<span style=\"color: #00d7ff; text-decoration-color: #00d7ff\">None</span>, <span style=\"color: #00af00; text-decoration-color: #00af00\">12</span>, <span style=\"color: #00af00; text-decoration-color: #00af00\">57</span>, <span style=\"color: #00af00; text-decoration-color: #00af00\">57</span>, <span style=\"color: #00af00; text-decoration-color: #00af00\">32</span>) │        <span style=\"color: #00af00; text-decoration-color: #00af00\">13,856</span> │\n",
       "├─────────────────────────────────┼────────────────────────┼───────────────┤\n",
       "│ batch_normalization_3           │ (<span style=\"color: #00d7ff; text-decoration-color: #00d7ff\">None</span>, <span style=\"color: #00af00; text-decoration-color: #00af00\">12</span>, <span style=\"color: #00af00; text-decoration-color: #00af00\">57</span>, <span style=\"color: #00af00; text-decoration-color: #00af00\">57</span>, <span style=\"color: #00af00; text-decoration-color: #00af00\">32</span>) │           <span style=\"color: #00af00; text-decoration-color: #00af00\">128</span> │\n",
       "│ (<span style=\"color: #0087ff; text-decoration-color: #0087ff\">BatchNormalization</span>)            │                        │               │\n",
       "├─────────────────────────────────┼────────────────────────┼───────────────┤\n",
       "│ max_pooling3d_3 (<span style=\"color: #0087ff; text-decoration-color: #0087ff\">MaxPooling3D</span>)  │ (<span style=\"color: #00d7ff; text-decoration-color: #00d7ff\">None</span>, <span style=\"color: #00af00; text-decoration-color: #00af00\">6</span>, <span style=\"color: #00af00; text-decoration-color: #00af00\">28</span>, <span style=\"color: #00af00; text-decoration-color: #00af00\">28</span>, <span style=\"color: #00af00; text-decoration-color: #00af00\">32</span>)  │             <span style=\"color: #00af00; text-decoration-color: #00af00\">0</span> │\n",
       "├─────────────────────────────────┼────────────────────────┼───────────────┤\n",
       "│ flatten_1 (<span style=\"color: #0087ff; text-decoration-color: #0087ff\">Flatten</span>)             │ (<span style=\"color: #00d7ff; text-decoration-color: #00d7ff\">None</span>, <span style=\"color: #00af00; text-decoration-color: #00af00\">150528</span>)         │             <span style=\"color: #00af00; text-decoration-color: #00af00\">0</span> │\n",
       "├─────────────────────────────────┼────────────────────────┼───────────────┤\n",
       "│ dense_2 (<span style=\"color: #0087ff; text-decoration-color: #0087ff\">Dense</span>)                 │ (<span style=\"color: #00d7ff; text-decoration-color: #00d7ff\">None</span>, <span style=\"color: #00af00; text-decoration-color: #00af00\">32</span>)             │     <span style=\"color: #00af00; text-decoration-color: #00af00\">4,816,928</span> │\n",
       "├─────────────────────────────────┼────────────────────────┼───────────────┤\n",
       "│ dense_3 (<span style=\"color: #0087ff; text-decoration-color: #0087ff\">Dense</span>)                 │ (<span style=\"color: #00d7ff; text-decoration-color: #00d7ff\">None</span>, <span style=\"color: #00af00; text-decoration-color: #00af00\">5</span>)              │           <span style=\"color: #00af00; text-decoration-color: #00af00\">165</span> │\n",
       "└─────────────────────────────────┴────────────────────────┴───────────────┘\n",
       "</pre>\n"
      ],
      "text/plain": [
       "┏━━━━━━━━━━━━━━━━━━━━━━━━━━━━━━━━━┳━━━━━━━━━━━━━━━━━━━━━━━━┳━━━━━━━━━━━━━━━┓\n",
       "┃\u001b[1m \u001b[0m\u001b[1mLayer (type)                   \u001b[0m\u001b[1m \u001b[0m┃\u001b[1m \u001b[0m\u001b[1mOutput Shape          \u001b[0m\u001b[1m \u001b[0m┃\u001b[1m \u001b[0m\u001b[1m      Param #\u001b[0m\u001b[1m \u001b[0m┃\n",
       "┡━━━━━━━━━━━━━━━━━━━━━━━━━━━━━━━━━╇━━━━━━━━━━━━━━━━━━━━━━━━╇━━━━━━━━━━━━━━━┩\n",
       "│ conv3d_2 (\u001b[38;5;33mConv3D\u001b[0m)               │ (\u001b[38;5;45mNone\u001b[0m, \u001b[38;5;34m28\u001b[0m, \u001b[38;5;34m118\u001b[0m, \u001b[38;5;34m118\u001b[0m,   │         \u001b[38;5;34m1,312\u001b[0m │\n",
       "│                                 │ \u001b[38;5;34m16\u001b[0m)                    │               │\n",
       "├─────────────────────────────────┼────────────────────────┼───────────────┤\n",
       "│ batch_normalization_2           │ (\u001b[38;5;45mNone\u001b[0m, \u001b[38;5;34m28\u001b[0m, \u001b[38;5;34m118\u001b[0m, \u001b[38;5;34m118\u001b[0m,   │            \u001b[38;5;34m64\u001b[0m │\n",
       "│ (\u001b[38;5;33mBatchNormalization\u001b[0m)            │ \u001b[38;5;34m16\u001b[0m)                    │               │\n",
       "├─────────────────────────────────┼────────────────────────┼───────────────┤\n",
       "│ max_pooling3d_2 (\u001b[38;5;33mMaxPooling3D\u001b[0m)  │ (\u001b[38;5;45mNone\u001b[0m, \u001b[38;5;34m14\u001b[0m, \u001b[38;5;34m59\u001b[0m, \u001b[38;5;34m59\u001b[0m, \u001b[38;5;34m16\u001b[0m) │             \u001b[38;5;34m0\u001b[0m │\n",
       "├─────────────────────────────────┼────────────────────────┼───────────────┤\n",
       "│ conv3d_3 (\u001b[38;5;33mConv3D\u001b[0m)               │ (\u001b[38;5;45mNone\u001b[0m, \u001b[38;5;34m12\u001b[0m, \u001b[38;5;34m57\u001b[0m, \u001b[38;5;34m57\u001b[0m, \u001b[38;5;34m32\u001b[0m) │        \u001b[38;5;34m13,856\u001b[0m │\n",
       "├─────────────────────────────────┼────────────────────────┼───────────────┤\n",
       "│ batch_normalization_3           │ (\u001b[38;5;45mNone\u001b[0m, \u001b[38;5;34m12\u001b[0m, \u001b[38;5;34m57\u001b[0m, \u001b[38;5;34m57\u001b[0m, \u001b[38;5;34m32\u001b[0m) │           \u001b[38;5;34m128\u001b[0m │\n",
       "│ (\u001b[38;5;33mBatchNormalization\u001b[0m)            │                        │               │\n",
       "├─────────────────────────────────┼────────────────────────┼───────────────┤\n",
       "│ max_pooling3d_3 (\u001b[38;5;33mMaxPooling3D\u001b[0m)  │ (\u001b[38;5;45mNone\u001b[0m, \u001b[38;5;34m6\u001b[0m, \u001b[38;5;34m28\u001b[0m, \u001b[38;5;34m28\u001b[0m, \u001b[38;5;34m32\u001b[0m)  │             \u001b[38;5;34m0\u001b[0m │\n",
       "├─────────────────────────────────┼────────────────────────┼───────────────┤\n",
       "│ flatten_1 (\u001b[38;5;33mFlatten\u001b[0m)             │ (\u001b[38;5;45mNone\u001b[0m, \u001b[38;5;34m150528\u001b[0m)         │             \u001b[38;5;34m0\u001b[0m │\n",
       "├─────────────────────────────────┼────────────────────────┼───────────────┤\n",
       "│ dense_2 (\u001b[38;5;33mDense\u001b[0m)                 │ (\u001b[38;5;45mNone\u001b[0m, \u001b[38;5;34m32\u001b[0m)             │     \u001b[38;5;34m4,816,928\u001b[0m │\n",
       "├─────────────────────────────────┼────────────────────────┼───────────────┤\n",
       "│ dense_3 (\u001b[38;5;33mDense\u001b[0m)                 │ (\u001b[38;5;45mNone\u001b[0m, \u001b[38;5;34m5\u001b[0m)              │           \u001b[38;5;34m165\u001b[0m │\n",
       "└─────────────────────────────────┴────────────────────────┴───────────────┘\n"
      ]
     },
     "metadata": {},
     "output_type": "display_data"
    },
    {
     "data": {
      "text/html": [
       "<pre style=\"white-space:pre;overflow-x:auto;line-height:normal;font-family:Menlo,'DejaVu Sans Mono',consolas,'Courier New',monospace\"><span style=\"font-weight: bold\"> Total params: </span><span style=\"color: #00af00; text-decoration-color: #00af00\">4,832,453</span> (18.43 MB)\n",
       "</pre>\n"
      ],
      "text/plain": [
       "\u001b[1m Total params: \u001b[0m\u001b[38;5;34m4,832,453\u001b[0m (18.43 MB)\n"
      ]
     },
     "metadata": {},
     "output_type": "display_data"
    },
    {
     "data": {
      "text/html": [
       "<pre style=\"white-space:pre;overflow-x:auto;line-height:normal;font-family:Menlo,'DejaVu Sans Mono',consolas,'Courier New',monospace\"><span style=\"font-weight: bold\"> Trainable params: </span><span style=\"color: #00af00; text-decoration-color: #00af00\">4,832,357</span> (18.43 MB)\n",
       "</pre>\n"
      ],
      "text/plain": [
       "\u001b[1m Trainable params: \u001b[0m\u001b[38;5;34m4,832,357\u001b[0m (18.43 MB)\n"
      ]
     },
     "metadata": {},
     "output_type": "display_data"
    },
    {
     "data": {
      "text/html": [
       "<pre style=\"white-space:pre;overflow-x:auto;line-height:normal;font-family:Menlo,'DejaVu Sans Mono',consolas,'Courier New',monospace\"><span style=\"font-weight: bold\"> Non-trainable params: </span><span style=\"color: #00af00; text-decoration-color: #00af00\">96</span> (384.00 B)\n",
       "</pre>\n"
      ],
      "text/plain": [
       "\u001b[1m Non-trainable params: \u001b[0m\u001b[38;5;34m96\u001b[0m (384.00 B)\n"
      ]
     },
     "metadata": {},
     "output_type": "display_data"
    },
    {
     "name": "stdout",
     "output_type": "stream",
     "text": [
      "None\n"
     ]
    }
   ],
   "source": [
    "learning_rate = 0.1\n",
    "optimiser = tf.keras.optimizers.Adam(learning_rate=learning_rate) #write your optimizer\n",
    "conv3d_with_dropout_model.compile(optimizer=optimiser, loss='categorical_crossentropy', metrics=['categorical_accuracy'])\n",
    "print (conv3d_with_dropout_model.summary())"
   ]
  },
  {
   "cell_type": "code",
   "execution_count": 49,
   "metadata": {
    "id": "TF5HYOwjF3m0"
   },
   "outputs": [
    {
     "name": "stdout",
     "output_type": "stream",
     "text": [
      "Source path =  C:/Users/ukhan/Documents/Learning/Python/Jupyter/DeepLearning_CaseStudy_GuestureRecognition/Project_data//train/ ; batch size = 5\n",
      "folder =  0\n",
      "folder =  1\n",
      "folder =  2\n",
      "folder =  3\n",
      "folder =  4\n",
      "folder =  0\n",
      "folder =  1\n",
      "folder =  2\n",
      "folder =  3\n",
      "folder =  4\n",
      "\u001b[1m 1/12\u001b[0m \u001b[32m━\u001b[0m\u001b[37m━━━━━━━━━━━━━━━━━━━\u001b[0m \u001b[1m57s\u001b[0m 5s/step - categorical_accuracy: 0.0000e+00 - loss: 3.9520folder =  0\n",
      "\u001b[1m 2/12\u001b[0m \u001b[32m━━━\u001b[0m\u001b[37m━━━━━━━━━━━━━━━━━\u001b[0m \u001b[1m7s\u001b[0m 751ms/step - categorical_accuracy: 0.0500 - loss: 772.4761folder =  1\n",
      "folder =  2\n",
      "folder =  3\n",
      "folder =  4\n",
      "folder =  0\n",
      "\u001b[1m 3/12\u001b[0m \u001b[32m━━━━━\u001b[0m\u001b[37m━━━━━━━━━━━━━━━\u001b[0m \u001b[1m28s\u001b[0m 3s/step - categorical_accuracy: 0.0556 - loss: 1111.1254 folder =  1\n",
      "folder =  2\n",
      "folder =  3\n",
      "folder =  4\n",
      "folder =  0\n",
      "\u001b[1m 4/12\u001b[0m \u001b[32m━━━━━━\u001b[0m\u001b[37m━━━━━━━━━━━━━━\u001b[0m \u001b[1m31s\u001b[0m 4s/step - categorical_accuracy: 0.0792 - loss: 1489.7844folder =  1\n",
      "folder =  2\n",
      "folder =  3\n",
      "folder =  4\n",
      "folder =  0\n",
      "\u001b[1m 5/12\u001b[0m \u001b[32m━━━━━━━━\u001b[0m\u001b[37m━━━━━━━━━━━━\u001b[0m \u001b[1m30s\u001b[0m 4s/step - categorical_accuracy: 0.1113 - loss: 1632.8550folder =  1\n",
      "folder =  2\n",
      "folder =  3\n",
      "folder =  4\n",
      "folder =  0\n",
      "\u001b[1m 6/12\u001b[0m \u001b[32m━━━━━━━━━━\u001b[0m\u001b[37m━━━━━━━━━━\u001b[0m \u001b[1m27s\u001b[0m 5s/step - categorical_accuracy: 0.1317 - loss: 1730.0790folder =  1\n",
      "folder =  2\n",
      "folder =  3\n",
      "folder =  4\n",
      "folder =  0\n",
      "\u001b[1m 7/12\u001b[0m \u001b[32m━━━━━━━━━━━\u001b[0m\u001b[37m━━━━━━━━━\u001b[0m \u001b[1m23s\u001b[0m 5s/step - categorical_accuracy: 0.1455 - loss: 1765.6671folder =  1\n",
      "folder =  2\n",
      "folder =  3\n",
      "folder =  4\n",
      "folder =  0\n",
      "\u001b[1m 8/12\u001b[0m \u001b[32m━━━━━━━━━━━━━\u001b[0m\u001b[37m━━━━━━━\u001b[0m \u001b[1m19s\u001b[0m 5s/step - categorical_accuracy: 0.1554 - loss: 1766.2313folder =  1\n",
      "folder =  2\n",
      "folder =  3\n",
      "folder =  4\n",
      "folder =  0\n",
      "\u001b[1m 9/12\u001b[0m \u001b[32m━━━━━━━━━━━━━━━\u001b[0m\u001b[37m━━━━━\u001b[0m \u001b[1m15s\u001b[0m 5s/step - categorical_accuracy: 0.1678 - loss: 1751.0444folder =  1\n",
      "folder =  2\n",
      "folder =  3\n",
      "folder =  4\n",
      "folder =  0\n",
      "\u001b[1m10/12\u001b[0m \u001b[32m━━━━━━━━━━━━━━━━\u001b[0m\u001b[37m━━━━\u001b[0m \u001b[1m10s\u001b[0m 5s/step - categorical_accuracy: 0.1790 - loss: 1728.7808folder =  1\n",
      "folder =  2\n",
      "folder =  3\n",
      "folder =  4\n",
      "folder =  0\n",
      "\u001b[1m11/12\u001b[0m \u001b[32m━━━━━━━━━━━━━━━━━━\u001b[0m\u001b[37m━━\u001b[0m \u001b[1m5s\u001b[0m 5s/step - categorical_accuracy: 0.1875 - loss: 1698.2405 folder =  1\n",
      "folder =  2\n",
      "folder =  3\n",
      "folder =  4\n",
      "folder =  0\n",
      "\u001b[1m12/12\u001b[0m \u001b[32m━━━━━━━━━━━━━━━━━━━━\u001b[0m\u001b[37m\u001b[0m \u001b[1m0s\u001b[0m 5s/step - categorical_accuracy: 0.1941 - loss: 1663.7288Source path =  C:/Users/ukhan/Documents/Learning/Python/Jupyter/DeepLearning_CaseStudy_GuestureRecognition/Project_data//val/ ; batch size = 5\n",
      "folder =  0\n",
      "folder =  1\n",
      "folder =  1\n",
      "folder =  2\n",
      "folder =  2\n",
      "folder =  3\n",
      "folder =  3\n",
      "folder =  4\n",
      "folder =  4\n",
      "folder =  0\n",
      "folder =  0\n",
      "folder =  1\n",
      "folder =  1\n",
      "folder =  2\n",
      "folder =  2\n",
      "folder =  3\n",
      "folder =  3\n",
      "folder =  4\n",
      "folder =  4\n",
      "folder =  0\n",
      "folder =  1\n",
      "folder =  2\n",
      "folder =  3\n",
      "folder =  4\n",
      "folder =  0\n",
      "\n",
      "Epoch 1: saving model to C:/Users/ukhan/Documents/Learning/Python/Jupyter/DeepLearning_CaseStudy_GuestureRecognition/model_init_2024-07-3017_40_23.697211/model-00001-1284.09949-0.26667-64825.33203-0.20000.keras\n",
      "\u001b[1m12/12\u001b[0m \u001b[32m━━━━━━━━━━━━━━━━━━━━\u001b[0m\u001b[37m\u001b[0m \u001b[1m79s\u001b[0m 7s/step - categorical_accuracy: 0.1997 - loss: 1634.5265 - val_categorical_accuracy: 0.2000 - val_loss: 64825.3320 - learning_rate: 0.1000\n",
      "folder =  1\n",
      "folder =  2\n",
      "folder =  3\n",
      "folder =  4\n"
     ]
    },
    {
     "data": {
      "text/plain": [
       "<keras.src.callbacks.history.History at 0x24dbecd24d0>"
      ]
     },
     "execution_count": 49,
     "metadata": {},
     "output_type": "execute_result"
    }
   ],
   "source": [
    "#conv3d_model.fit(train_generator, epochs=2, validation_data=val_generator, callbacks=callbacks_list)\n",
    "init_model_checkpoint('cnn_conv3d_with_dropouts')\n",
    "cnn_model_with_dropout_history = conv3d_with_dropout_model.fit(train_generator, steps_per_epoch=steps_per_epoch, epochs=num_epochs, verbose=1,\n",
    "                    callbacks=callbacks_list, validation_data=val_generator,\n",
    "                    validation_steps=validation_steps)#, initial_epoch=0)"
   ]
  },
  {
   "cell_type": "code",
   "execution_count": null,
   "metadata": {},
   "outputs": [],
   "source": [
    "#Plot CNN Model History with Conv3D\n",
    "plotModelHistory(cnn_model_with_dropout_history)"
   ]
  },
  {
   "cell_type": "code",
   "execution_count": null,
   "metadata": {},
   "outputs": [],
   "source": []
  },
  {
   "cell_type": "markdown",
   "metadata": {
    "id": "2Dr_Luneck-c"
   },
   "source": [
    "# Feed conv2D + RNN-LSTM stack"
   ]
  },
  {
   "cell_type": "code",
   "execution_count": 60,
   "metadata": {},
   "outputs": [
    {
     "name": "stdout",
     "output_type": "stream",
     "text": [
      "# batch_size = 5\n",
      "# epochs = 1\n",
      "# no_classes = 5\n",
      "# input_shape = (30,120,120,3)\n"
     ]
    }
   ],
   "source": [
    "batch_size=5\n",
    "num_epochs = 1\n",
    "no_of_frames=30 # Number of frames\n",
    "y=img_height\n",
    "z=img_width\n",
    "\n",
    "print ('# batch_size =', batch_size)\n",
    "print ('# epochs =', num_epochs)\n",
    "print ('# no_classes =', no_classes)\n",
    "print ('# input_shape = (%d,%d,%d,%d)'%(no_of_frames, img_height, img_width,3))\n"
   ]
  },
  {
   "cell_type": "code",
   "execution_count": 36,
   "metadata": {
    "id": "1XDiUmaFZ6Xw"
   },
   "outputs": [],
   "source": [
    "cnn_rnn_model = Sequential()\n",
    "cnn_rnn_model.add(Input((no_of_frames, y, z, 3)))\n",
    "#cnn_rnn_model.add(TimeDistributed(Conv2D(filters = 16, kernel_size = (3,3), strides = (1,1), activation = 'relu', padding = 'same', input_shape = (30, 120, 120, 3))))\n",
    "cnn_rnn_model.add(TimeDistributed(Conv2D(filters = 16, kernel_size = (3,3), strides = (1,1), activation = 'relu', padding = 'same')))\n",
    "cnn_rnn_model.add(TimeDistributed(BatchNormalization()))\n",
    "cnn_rnn_model.add(TimeDistributed(MaxPooling2D(2,2)))\n",
    "\n",
    "cnn_rnn_model.add(TimeDistributed(Conv2D(32, (3,3), padding='same', activation='relu')))\n",
    "cnn_rnn_model.add(TimeDistributed(BatchNormalization()))\n",
    "cnn_rnn_model.add(TimeDistributed(MaxPooling2D(2,2)))\n",
    "\n",
    "cnn_rnn_model.add(TimeDistributed(Conv2D(64, (3,3), padding='same', activation='relu')))\n",
    "cnn_rnn_model.add(TimeDistributed(BatchNormalization()))\n",
    "cnn_rnn_model.add(TimeDistributed(MaxPooling2D(2,2)))\n",
    "\n",
    "cnn_rnn_model.add(TimeDistributed(Conv2D(128, (3,3), padding='same', activation='relu')))\n",
    "cnn_rnn_model.add(TimeDistributed(BatchNormalization()))\n",
    "cnn_rnn_model.add(TimeDistributed(MaxPooling2D(2,2)))\n",
    "\n",
    "cnn_rnn_model.add(TimeDistributed(Conv2D(256, (3,3), padding='same', activation='relu')))\n",
    "cnn_rnn_model.add(TimeDistributed(BatchNormalization()))\n",
    "cnn_rnn_model.add(TimeDistributed(MaxPooling2D(2,2)))\n",
    "\n",
    "cnn_rnn_model.add(TimeDistributed(Flatten()))\n",
    "cnn_rnn_model.add(LSTM(256))\n",
    "#cnn_rnn_model.add(LSTM(units = 20, activation = 'relu', return_sequences = True))\n",
    "cnn_rnn_model.add(Dropout(0.2))\n",
    "\n",
    "cnn_rnn_model.add(Dense(256, activation='relu'))\n",
    "cnn_rnn_model.add(Dropout(0.2))\n",
    "\n",
    "cnn_rnn_model.add(Dense(5, activation='softmax'))\n",
    "\n"
   ]
  },
  {
   "cell_type": "code",
   "execution_count": 37,
   "metadata": {
    "id": "-bSiqqR5qpdN"
   },
   "outputs": [
    {
     "data": {
      "text/html": [
       "<pre style=\"white-space:pre;overflow-x:auto;line-height:normal;font-family:Menlo,'DejaVu Sans Mono',consolas,'Courier New',monospace\"><span style=\"font-weight: bold\">Model: \"sequential_1\"</span>\n",
       "</pre>\n"
      ],
      "text/plain": [
       "\u001b[1mModel: \"sequential_1\"\u001b[0m\n"
      ]
     },
     "metadata": {},
     "output_type": "display_data"
    },
    {
     "data": {
      "text/html": [
       "<pre style=\"white-space:pre;overflow-x:auto;line-height:normal;font-family:Menlo,'DejaVu Sans Mono',consolas,'Courier New',monospace\">┏━━━━━━━━━━━━━━━━━━━━━━━━━━━━━━━━━┳━━━━━━━━━━━━━━━━━━━━━━━━┳━━━━━━━━━━━━━━━┓\n",
       "┃<span style=\"font-weight: bold\"> Layer (type)                    </span>┃<span style=\"font-weight: bold\"> Output Shape           </span>┃<span style=\"font-weight: bold\">       Param # </span>┃\n",
       "┡━━━━━━━━━━━━━━━━━━━━━━━━━━━━━━━━━╇━━━━━━━━━━━━━━━━━━━━━━━━╇━━━━━━━━━━━━━━━┩\n",
       "│ time_distributed_16             │ (<span style=\"color: #00d7ff; text-decoration-color: #00d7ff\">None</span>, <span style=\"color: #00af00; text-decoration-color: #00af00\">30</span>, <span style=\"color: #00af00; text-decoration-color: #00af00\">120</span>, <span style=\"color: #00af00; text-decoration-color: #00af00\">120</span>,   │           <span style=\"color: #00af00; text-decoration-color: #00af00\">448</span> │\n",
       "│ (<span style=\"color: #0087ff; text-decoration-color: #0087ff\">TimeDistributed</span>)               │ <span style=\"color: #00af00; text-decoration-color: #00af00\">16</span>)                    │               │\n",
       "├─────────────────────────────────┼────────────────────────┼───────────────┤\n",
       "│ time_distributed_17             │ (<span style=\"color: #00d7ff; text-decoration-color: #00d7ff\">None</span>, <span style=\"color: #00af00; text-decoration-color: #00af00\">30</span>, <span style=\"color: #00af00; text-decoration-color: #00af00\">120</span>, <span style=\"color: #00af00; text-decoration-color: #00af00\">120</span>,   │            <span style=\"color: #00af00; text-decoration-color: #00af00\">64</span> │\n",
       "│ (<span style=\"color: #0087ff; text-decoration-color: #0087ff\">TimeDistributed</span>)               │ <span style=\"color: #00af00; text-decoration-color: #00af00\">16</span>)                    │               │\n",
       "├─────────────────────────────────┼────────────────────────┼───────────────┤\n",
       "│ time_distributed_18             │ (<span style=\"color: #00d7ff; text-decoration-color: #00d7ff\">None</span>, <span style=\"color: #00af00; text-decoration-color: #00af00\">30</span>, <span style=\"color: #00af00; text-decoration-color: #00af00\">60</span>, <span style=\"color: #00af00; text-decoration-color: #00af00\">60</span>, <span style=\"color: #00af00; text-decoration-color: #00af00\">16</span>) │             <span style=\"color: #00af00; text-decoration-color: #00af00\">0</span> │\n",
       "│ (<span style=\"color: #0087ff; text-decoration-color: #0087ff\">TimeDistributed</span>)               │                        │               │\n",
       "├─────────────────────────────────┼────────────────────────┼───────────────┤\n",
       "│ time_distributed_19             │ (<span style=\"color: #00d7ff; text-decoration-color: #00d7ff\">None</span>, <span style=\"color: #00af00; text-decoration-color: #00af00\">30</span>, <span style=\"color: #00af00; text-decoration-color: #00af00\">60</span>, <span style=\"color: #00af00; text-decoration-color: #00af00\">60</span>, <span style=\"color: #00af00; text-decoration-color: #00af00\">32</span>) │         <span style=\"color: #00af00; text-decoration-color: #00af00\">4,640</span> │\n",
       "│ (<span style=\"color: #0087ff; text-decoration-color: #0087ff\">TimeDistributed</span>)               │                        │               │\n",
       "├─────────────────────────────────┼────────────────────────┼───────────────┤\n",
       "│ time_distributed_20             │ (<span style=\"color: #00d7ff; text-decoration-color: #00d7ff\">None</span>, <span style=\"color: #00af00; text-decoration-color: #00af00\">30</span>, <span style=\"color: #00af00; text-decoration-color: #00af00\">60</span>, <span style=\"color: #00af00; text-decoration-color: #00af00\">60</span>, <span style=\"color: #00af00; text-decoration-color: #00af00\">32</span>) │           <span style=\"color: #00af00; text-decoration-color: #00af00\">128</span> │\n",
       "│ (<span style=\"color: #0087ff; text-decoration-color: #0087ff\">TimeDistributed</span>)               │                        │               │\n",
       "├─────────────────────────────────┼────────────────────────┼───────────────┤\n",
       "│ time_distributed_21             │ (<span style=\"color: #00d7ff; text-decoration-color: #00d7ff\">None</span>, <span style=\"color: #00af00; text-decoration-color: #00af00\">30</span>, <span style=\"color: #00af00; text-decoration-color: #00af00\">30</span>, <span style=\"color: #00af00; text-decoration-color: #00af00\">30</span>, <span style=\"color: #00af00; text-decoration-color: #00af00\">32</span>) │             <span style=\"color: #00af00; text-decoration-color: #00af00\">0</span> │\n",
       "│ (<span style=\"color: #0087ff; text-decoration-color: #0087ff\">TimeDistributed</span>)               │                        │               │\n",
       "├─────────────────────────────────┼────────────────────────┼───────────────┤\n",
       "│ time_distributed_22             │ (<span style=\"color: #00d7ff; text-decoration-color: #00d7ff\">None</span>, <span style=\"color: #00af00; text-decoration-color: #00af00\">30</span>, <span style=\"color: #00af00; text-decoration-color: #00af00\">30</span>, <span style=\"color: #00af00; text-decoration-color: #00af00\">30</span>, <span style=\"color: #00af00; text-decoration-color: #00af00\">64</span>) │        <span style=\"color: #00af00; text-decoration-color: #00af00\">18,496</span> │\n",
       "│ (<span style=\"color: #0087ff; text-decoration-color: #0087ff\">TimeDistributed</span>)               │                        │               │\n",
       "├─────────────────────────────────┼────────────────────────┼───────────────┤\n",
       "│ time_distributed_23             │ (<span style=\"color: #00d7ff; text-decoration-color: #00d7ff\">None</span>, <span style=\"color: #00af00; text-decoration-color: #00af00\">30</span>, <span style=\"color: #00af00; text-decoration-color: #00af00\">30</span>, <span style=\"color: #00af00; text-decoration-color: #00af00\">30</span>, <span style=\"color: #00af00; text-decoration-color: #00af00\">64</span>) │           <span style=\"color: #00af00; text-decoration-color: #00af00\">256</span> │\n",
       "│ (<span style=\"color: #0087ff; text-decoration-color: #0087ff\">TimeDistributed</span>)               │                        │               │\n",
       "├─────────────────────────────────┼────────────────────────┼───────────────┤\n",
       "│ time_distributed_24             │ (<span style=\"color: #00d7ff; text-decoration-color: #00d7ff\">None</span>, <span style=\"color: #00af00; text-decoration-color: #00af00\">30</span>, <span style=\"color: #00af00; text-decoration-color: #00af00\">15</span>, <span style=\"color: #00af00; text-decoration-color: #00af00\">15</span>, <span style=\"color: #00af00; text-decoration-color: #00af00\">64</span>) │             <span style=\"color: #00af00; text-decoration-color: #00af00\">0</span> │\n",
       "│ (<span style=\"color: #0087ff; text-decoration-color: #0087ff\">TimeDistributed</span>)               │                        │               │\n",
       "├─────────────────────────────────┼────────────────────────┼───────────────┤\n",
       "│ time_distributed_25             │ (<span style=\"color: #00d7ff; text-decoration-color: #00d7ff\">None</span>, <span style=\"color: #00af00; text-decoration-color: #00af00\">30</span>, <span style=\"color: #00af00; text-decoration-color: #00af00\">15</span>, <span style=\"color: #00af00; text-decoration-color: #00af00\">15</span>,     │        <span style=\"color: #00af00; text-decoration-color: #00af00\">73,856</span> │\n",
       "│ (<span style=\"color: #0087ff; text-decoration-color: #0087ff\">TimeDistributed</span>)               │ <span style=\"color: #00af00; text-decoration-color: #00af00\">128</span>)                   │               │\n",
       "├─────────────────────────────────┼────────────────────────┼───────────────┤\n",
       "│ time_distributed_26             │ (<span style=\"color: #00d7ff; text-decoration-color: #00d7ff\">None</span>, <span style=\"color: #00af00; text-decoration-color: #00af00\">30</span>, <span style=\"color: #00af00; text-decoration-color: #00af00\">15</span>, <span style=\"color: #00af00; text-decoration-color: #00af00\">15</span>,     │           <span style=\"color: #00af00; text-decoration-color: #00af00\">512</span> │\n",
       "│ (<span style=\"color: #0087ff; text-decoration-color: #0087ff\">TimeDistributed</span>)               │ <span style=\"color: #00af00; text-decoration-color: #00af00\">128</span>)                   │               │\n",
       "├─────────────────────────────────┼────────────────────────┼───────────────┤\n",
       "│ time_distributed_27             │ (<span style=\"color: #00d7ff; text-decoration-color: #00d7ff\">None</span>, <span style=\"color: #00af00; text-decoration-color: #00af00\">30</span>, <span style=\"color: #00af00; text-decoration-color: #00af00\">7</span>, <span style=\"color: #00af00; text-decoration-color: #00af00\">7</span>, <span style=\"color: #00af00; text-decoration-color: #00af00\">128</span>)  │             <span style=\"color: #00af00; text-decoration-color: #00af00\">0</span> │\n",
       "│ (<span style=\"color: #0087ff; text-decoration-color: #0087ff\">TimeDistributed</span>)               │                        │               │\n",
       "├─────────────────────────────────┼────────────────────────┼───────────────┤\n",
       "│ time_distributed_28             │ (<span style=\"color: #00d7ff; text-decoration-color: #00d7ff\">None</span>, <span style=\"color: #00af00; text-decoration-color: #00af00\">30</span>, <span style=\"color: #00af00; text-decoration-color: #00af00\">7</span>, <span style=\"color: #00af00; text-decoration-color: #00af00\">7</span>, <span style=\"color: #00af00; text-decoration-color: #00af00\">256</span>)  │       <span style=\"color: #00af00; text-decoration-color: #00af00\">295,168</span> │\n",
       "│ (<span style=\"color: #0087ff; text-decoration-color: #0087ff\">TimeDistributed</span>)               │                        │               │\n",
       "├─────────────────────────────────┼────────────────────────┼───────────────┤\n",
       "│ time_distributed_29             │ (<span style=\"color: #00d7ff; text-decoration-color: #00d7ff\">None</span>, <span style=\"color: #00af00; text-decoration-color: #00af00\">30</span>, <span style=\"color: #00af00; text-decoration-color: #00af00\">7</span>, <span style=\"color: #00af00; text-decoration-color: #00af00\">7</span>, <span style=\"color: #00af00; text-decoration-color: #00af00\">256</span>)  │         <span style=\"color: #00af00; text-decoration-color: #00af00\">1,024</span> │\n",
       "│ (<span style=\"color: #0087ff; text-decoration-color: #0087ff\">TimeDistributed</span>)               │                        │               │\n",
       "├─────────────────────────────────┼────────────────────────┼───────────────┤\n",
       "│ time_distributed_30             │ (<span style=\"color: #00d7ff; text-decoration-color: #00d7ff\">None</span>, <span style=\"color: #00af00; text-decoration-color: #00af00\">30</span>, <span style=\"color: #00af00; text-decoration-color: #00af00\">3</span>, <span style=\"color: #00af00; text-decoration-color: #00af00\">3</span>, <span style=\"color: #00af00; text-decoration-color: #00af00\">256</span>)  │             <span style=\"color: #00af00; text-decoration-color: #00af00\">0</span> │\n",
       "│ (<span style=\"color: #0087ff; text-decoration-color: #0087ff\">TimeDistributed</span>)               │                        │               │\n",
       "├─────────────────────────────────┼────────────────────────┼───────────────┤\n",
       "│ time_distributed_31             │ (<span style=\"color: #00d7ff; text-decoration-color: #00d7ff\">None</span>, <span style=\"color: #00af00; text-decoration-color: #00af00\">30</span>, <span style=\"color: #00af00; text-decoration-color: #00af00\">2304</span>)       │             <span style=\"color: #00af00; text-decoration-color: #00af00\">0</span> │\n",
       "│ (<span style=\"color: #0087ff; text-decoration-color: #0087ff\">TimeDistributed</span>)               │                        │               │\n",
       "├─────────────────────────────────┼────────────────────────┼───────────────┤\n",
       "│ lstm_1 (<span style=\"color: #0087ff; text-decoration-color: #0087ff\">LSTM</span>)                   │ (<span style=\"color: #00d7ff; text-decoration-color: #00d7ff\">None</span>, <span style=\"color: #00af00; text-decoration-color: #00af00\">256</span>)            │     <span style=\"color: #00af00; text-decoration-color: #00af00\">2,622,464</span> │\n",
       "├─────────────────────────────────┼────────────────────────┼───────────────┤\n",
       "│ dropout_2 (<span style=\"color: #0087ff; text-decoration-color: #0087ff\">Dropout</span>)             │ (<span style=\"color: #00d7ff; text-decoration-color: #00d7ff\">None</span>, <span style=\"color: #00af00; text-decoration-color: #00af00\">256</span>)            │             <span style=\"color: #00af00; text-decoration-color: #00af00\">0</span> │\n",
       "├─────────────────────────────────┼────────────────────────┼───────────────┤\n",
       "│ dense_2 (<span style=\"color: #0087ff; text-decoration-color: #0087ff\">Dense</span>)                 │ (<span style=\"color: #00d7ff; text-decoration-color: #00d7ff\">None</span>, <span style=\"color: #00af00; text-decoration-color: #00af00\">256</span>)            │        <span style=\"color: #00af00; text-decoration-color: #00af00\">65,792</span> │\n",
       "├─────────────────────────────────┼────────────────────────┼───────────────┤\n",
       "│ dropout_3 (<span style=\"color: #0087ff; text-decoration-color: #0087ff\">Dropout</span>)             │ (<span style=\"color: #00d7ff; text-decoration-color: #00d7ff\">None</span>, <span style=\"color: #00af00; text-decoration-color: #00af00\">256</span>)            │             <span style=\"color: #00af00; text-decoration-color: #00af00\">0</span> │\n",
       "├─────────────────────────────────┼────────────────────────┼───────────────┤\n",
       "│ dense_3 (<span style=\"color: #0087ff; text-decoration-color: #0087ff\">Dense</span>)                 │ (<span style=\"color: #00d7ff; text-decoration-color: #00d7ff\">None</span>, <span style=\"color: #00af00; text-decoration-color: #00af00\">5</span>)              │         <span style=\"color: #00af00; text-decoration-color: #00af00\">1,285</span> │\n",
       "└─────────────────────────────────┴────────────────────────┴───────────────┘\n",
       "</pre>\n"
      ],
      "text/plain": [
       "┏━━━━━━━━━━━━━━━━━━━━━━━━━━━━━━━━━┳━━━━━━━━━━━━━━━━━━━━━━━━┳━━━━━━━━━━━━━━━┓\n",
       "┃\u001b[1m \u001b[0m\u001b[1mLayer (type)                   \u001b[0m\u001b[1m \u001b[0m┃\u001b[1m \u001b[0m\u001b[1mOutput Shape          \u001b[0m\u001b[1m \u001b[0m┃\u001b[1m \u001b[0m\u001b[1m      Param #\u001b[0m\u001b[1m \u001b[0m┃\n",
       "┡━━━━━━━━━━━━━━━━━━━━━━━━━━━━━━━━━╇━━━━━━━━━━━━━━━━━━━━━━━━╇━━━━━━━━━━━━━━━┩\n",
       "│ time_distributed_16             │ (\u001b[38;5;45mNone\u001b[0m, \u001b[38;5;34m30\u001b[0m, \u001b[38;5;34m120\u001b[0m, \u001b[38;5;34m120\u001b[0m,   │           \u001b[38;5;34m448\u001b[0m │\n",
       "│ (\u001b[38;5;33mTimeDistributed\u001b[0m)               │ \u001b[38;5;34m16\u001b[0m)                    │               │\n",
       "├─────────────────────────────────┼────────────────────────┼───────────────┤\n",
       "│ time_distributed_17             │ (\u001b[38;5;45mNone\u001b[0m, \u001b[38;5;34m30\u001b[0m, \u001b[38;5;34m120\u001b[0m, \u001b[38;5;34m120\u001b[0m,   │            \u001b[38;5;34m64\u001b[0m │\n",
       "│ (\u001b[38;5;33mTimeDistributed\u001b[0m)               │ \u001b[38;5;34m16\u001b[0m)                    │               │\n",
       "├─────────────────────────────────┼────────────────────────┼───────────────┤\n",
       "│ time_distributed_18             │ (\u001b[38;5;45mNone\u001b[0m, \u001b[38;5;34m30\u001b[0m, \u001b[38;5;34m60\u001b[0m, \u001b[38;5;34m60\u001b[0m, \u001b[38;5;34m16\u001b[0m) │             \u001b[38;5;34m0\u001b[0m │\n",
       "│ (\u001b[38;5;33mTimeDistributed\u001b[0m)               │                        │               │\n",
       "├─────────────────────────────────┼────────────────────────┼───────────────┤\n",
       "│ time_distributed_19             │ (\u001b[38;5;45mNone\u001b[0m, \u001b[38;5;34m30\u001b[0m, \u001b[38;5;34m60\u001b[0m, \u001b[38;5;34m60\u001b[0m, \u001b[38;5;34m32\u001b[0m) │         \u001b[38;5;34m4,640\u001b[0m │\n",
       "│ (\u001b[38;5;33mTimeDistributed\u001b[0m)               │                        │               │\n",
       "├─────────────────────────────────┼────────────────────────┼───────────────┤\n",
       "│ time_distributed_20             │ (\u001b[38;5;45mNone\u001b[0m, \u001b[38;5;34m30\u001b[0m, \u001b[38;5;34m60\u001b[0m, \u001b[38;5;34m60\u001b[0m, \u001b[38;5;34m32\u001b[0m) │           \u001b[38;5;34m128\u001b[0m │\n",
       "│ (\u001b[38;5;33mTimeDistributed\u001b[0m)               │                        │               │\n",
       "├─────────────────────────────────┼────────────────────────┼───────────────┤\n",
       "│ time_distributed_21             │ (\u001b[38;5;45mNone\u001b[0m, \u001b[38;5;34m30\u001b[0m, \u001b[38;5;34m30\u001b[0m, \u001b[38;5;34m30\u001b[0m, \u001b[38;5;34m32\u001b[0m) │             \u001b[38;5;34m0\u001b[0m │\n",
       "│ (\u001b[38;5;33mTimeDistributed\u001b[0m)               │                        │               │\n",
       "├─────────────────────────────────┼────────────────────────┼───────────────┤\n",
       "│ time_distributed_22             │ (\u001b[38;5;45mNone\u001b[0m, \u001b[38;5;34m30\u001b[0m, \u001b[38;5;34m30\u001b[0m, \u001b[38;5;34m30\u001b[0m, \u001b[38;5;34m64\u001b[0m) │        \u001b[38;5;34m18,496\u001b[0m │\n",
       "│ (\u001b[38;5;33mTimeDistributed\u001b[0m)               │                        │               │\n",
       "├─────────────────────────────────┼────────────────────────┼───────────────┤\n",
       "│ time_distributed_23             │ (\u001b[38;5;45mNone\u001b[0m, \u001b[38;5;34m30\u001b[0m, \u001b[38;5;34m30\u001b[0m, \u001b[38;5;34m30\u001b[0m, \u001b[38;5;34m64\u001b[0m) │           \u001b[38;5;34m256\u001b[0m │\n",
       "│ (\u001b[38;5;33mTimeDistributed\u001b[0m)               │                        │               │\n",
       "├─────────────────────────────────┼────────────────────────┼───────────────┤\n",
       "│ time_distributed_24             │ (\u001b[38;5;45mNone\u001b[0m, \u001b[38;5;34m30\u001b[0m, \u001b[38;5;34m15\u001b[0m, \u001b[38;5;34m15\u001b[0m, \u001b[38;5;34m64\u001b[0m) │             \u001b[38;5;34m0\u001b[0m │\n",
       "│ (\u001b[38;5;33mTimeDistributed\u001b[0m)               │                        │               │\n",
       "├─────────────────────────────────┼────────────────────────┼───────────────┤\n",
       "│ time_distributed_25             │ (\u001b[38;5;45mNone\u001b[0m, \u001b[38;5;34m30\u001b[0m, \u001b[38;5;34m15\u001b[0m, \u001b[38;5;34m15\u001b[0m,     │        \u001b[38;5;34m73,856\u001b[0m │\n",
       "│ (\u001b[38;5;33mTimeDistributed\u001b[0m)               │ \u001b[38;5;34m128\u001b[0m)                   │               │\n",
       "├─────────────────────────────────┼────────────────────────┼───────────────┤\n",
       "│ time_distributed_26             │ (\u001b[38;5;45mNone\u001b[0m, \u001b[38;5;34m30\u001b[0m, \u001b[38;5;34m15\u001b[0m, \u001b[38;5;34m15\u001b[0m,     │           \u001b[38;5;34m512\u001b[0m │\n",
       "│ (\u001b[38;5;33mTimeDistributed\u001b[0m)               │ \u001b[38;5;34m128\u001b[0m)                   │               │\n",
       "├─────────────────────────────────┼────────────────────────┼───────────────┤\n",
       "│ time_distributed_27             │ (\u001b[38;5;45mNone\u001b[0m, \u001b[38;5;34m30\u001b[0m, \u001b[38;5;34m7\u001b[0m, \u001b[38;5;34m7\u001b[0m, \u001b[38;5;34m128\u001b[0m)  │             \u001b[38;5;34m0\u001b[0m │\n",
       "│ (\u001b[38;5;33mTimeDistributed\u001b[0m)               │                        │               │\n",
       "├─────────────────────────────────┼────────────────────────┼───────────────┤\n",
       "│ time_distributed_28             │ (\u001b[38;5;45mNone\u001b[0m, \u001b[38;5;34m30\u001b[0m, \u001b[38;5;34m7\u001b[0m, \u001b[38;5;34m7\u001b[0m, \u001b[38;5;34m256\u001b[0m)  │       \u001b[38;5;34m295,168\u001b[0m │\n",
       "│ (\u001b[38;5;33mTimeDistributed\u001b[0m)               │                        │               │\n",
       "├─────────────────────────────────┼────────────────────────┼───────────────┤\n",
       "│ time_distributed_29             │ (\u001b[38;5;45mNone\u001b[0m, \u001b[38;5;34m30\u001b[0m, \u001b[38;5;34m7\u001b[0m, \u001b[38;5;34m7\u001b[0m, \u001b[38;5;34m256\u001b[0m)  │         \u001b[38;5;34m1,024\u001b[0m │\n",
       "│ (\u001b[38;5;33mTimeDistributed\u001b[0m)               │                        │               │\n",
       "├─────────────────────────────────┼────────────────────────┼───────────────┤\n",
       "│ time_distributed_30             │ (\u001b[38;5;45mNone\u001b[0m, \u001b[38;5;34m30\u001b[0m, \u001b[38;5;34m3\u001b[0m, \u001b[38;5;34m3\u001b[0m, \u001b[38;5;34m256\u001b[0m)  │             \u001b[38;5;34m0\u001b[0m │\n",
       "│ (\u001b[38;5;33mTimeDistributed\u001b[0m)               │                        │               │\n",
       "├─────────────────────────────────┼────────────────────────┼───────────────┤\n",
       "│ time_distributed_31             │ (\u001b[38;5;45mNone\u001b[0m, \u001b[38;5;34m30\u001b[0m, \u001b[38;5;34m2304\u001b[0m)       │             \u001b[38;5;34m0\u001b[0m │\n",
       "│ (\u001b[38;5;33mTimeDistributed\u001b[0m)               │                        │               │\n",
       "├─────────────────────────────────┼────────────────────────┼───────────────┤\n",
       "│ lstm_1 (\u001b[38;5;33mLSTM\u001b[0m)                   │ (\u001b[38;5;45mNone\u001b[0m, \u001b[38;5;34m256\u001b[0m)            │     \u001b[38;5;34m2,622,464\u001b[0m │\n",
       "├─────────────────────────────────┼────────────────────────┼───────────────┤\n",
       "│ dropout_2 (\u001b[38;5;33mDropout\u001b[0m)             │ (\u001b[38;5;45mNone\u001b[0m, \u001b[38;5;34m256\u001b[0m)            │             \u001b[38;5;34m0\u001b[0m │\n",
       "├─────────────────────────────────┼────────────────────────┼───────────────┤\n",
       "│ dense_2 (\u001b[38;5;33mDense\u001b[0m)                 │ (\u001b[38;5;45mNone\u001b[0m, \u001b[38;5;34m256\u001b[0m)            │        \u001b[38;5;34m65,792\u001b[0m │\n",
       "├─────────────────────────────────┼────────────────────────┼───────────────┤\n",
       "│ dropout_3 (\u001b[38;5;33mDropout\u001b[0m)             │ (\u001b[38;5;45mNone\u001b[0m, \u001b[38;5;34m256\u001b[0m)            │             \u001b[38;5;34m0\u001b[0m │\n",
       "├─────────────────────────────────┼────────────────────────┼───────────────┤\n",
       "│ dense_3 (\u001b[38;5;33mDense\u001b[0m)                 │ (\u001b[38;5;45mNone\u001b[0m, \u001b[38;5;34m5\u001b[0m)              │         \u001b[38;5;34m1,285\u001b[0m │\n",
       "└─────────────────────────────────┴────────────────────────┴───────────────┘\n"
      ]
     },
     "metadata": {},
     "output_type": "display_data"
    },
    {
     "data": {
      "text/html": [
       "<pre style=\"white-space:pre;overflow-x:auto;line-height:normal;font-family:Menlo,'DejaVu Sans Mono',consolas,'Courier New',monospace\"><span style=\"font-weight: bold\"> Total params: </span><span style=\"color: #00af00; text-decoration-color: #00af00\">3,084,133</span> (11.77 MB)\n",
       "</pre>\n"
      ],
      "text/plain": [
       "\u001b[1m Total params: \u001b[0m\u001b[38;5;34m3,084,133\u001b[0m (11.77 MB)\n"
      ]
     },
     "metadata": {},
     "output_type": "display_data"
    },
    {
     "data": {
      "text/html": [
       "<pre style=\"white-space:pre;overflow-x:auto;line-height:normal;font-family:Menlo,'DejaVu Sans Mono',consolas,'Courier New',monospace\"><span style=\"font-weight: bold\"> Trainable params: </span><span style=\"color: #00af00; text-decoration-color: #00af00\">3,083,141</span> (11.76 MB)\n",
       "</pre>\n"
      ],
      "text/plain": [
       "\u001b[1m Trainable params: \u001b[0m\u001b[38;5;34m3,083,141\u001b[0m (11.76 MB)\n"
      ]
     },
     "metadata": {},
     "output_type": "display_data"
    },
    {
     "data": {
      "text/html": [
       "<pre style=\"white-space:pre;overflow-x:auto;line-height:normal;font-family:Menlo,'DejaVu Sans Mono',consolas,'Courier New',monospace\"><span style=\"font-weight: bold\"> Non-trainable params: </span><span style=\"color: #00af00; text-decoration-color: #00af00\">992</span> (3.88 KB)\n",
       "</pre>\n"
      ],
      "text/plain": [
       "\u001b[1m Non-trainable params: \u001b[0m\u001b[38;5;34m992\u001b[0m (3.88 KB)\n"
      ]
     },
     "metadata": {},
     "output_type": "display_data"
    },
    {
     "name": "stdout",
     "output_type": "stream",
     "text": [
      "None\n"
     ]
    }
   ],
   "source": [
    "#optim = tf.keras.optimizers.Adam(lr = 0.1)\n",
    "optim = tf.keras.optimizers.Adam()\n",
    "cnn_rnn_model.compile(optimizer = optim, loss = 'categorical_crossentropy', metrics=['categorical_accuracy'])\n",
    "print (cnn_rnn_model.summary())\n"
   ]
  },
  {
   "cell_type": "code",
   "execution_count": 39,
   "metadata": {
    "id": "BbLWtCrAqvgj"
   },
   "outputs": [
    {
     "name": "stdout",
     "output_type": "stream",
     "text": [
      "Source path =  C:/Users/ukhan/Documents/Learning/Python/Jupyter/DeepLearning_CaseStudy_GuestureRecognition/Project_data//train/ ; batch size = 5\n",
      "\u001b[1m12/12\u001b[0m \u001b[32m━━━━━━━━━━━━━━━━━━━━\u001b[0m\u001b[37m\u001b[0m \u001b[1m0s\u001b[0m 9s/step - categorical_accuracy: 0.2883 - loss: 1.6086Source path =  C:/Users/ukhan/Documents/Learning/Python/Jupyter/DeepLearning_CaseStudy_GuestureRecognition/Project_data//val/ ; batch size = 5\n",
      "\n",
      "Epoch 1: saving model to C:/Users/ukhan/Documents/Learning/Python/Jupyter/DeepLearning_CaseStudy_GuestureRecognition/model_init_2024-07-3108_42_28.800554/model-00001-1.54573-0.31667-1.65356-0.20000.keras\n",
      "\u001b[1m12/12\u001b[0m \u001b[32m━━━━━━━━━━━━━━━━━━━━\u001b[0m\u001b[37m\u001b[0m \u001b[1m220s\u001b[0m 12s/step - categorical_accuracy: 0.2905 - loss: 1.6038 - val_categorical_accuracy: 0.2000 - val_loss: 1.6536 - learning_rate: 0.0010\n"
     ]
    }
   ],
   "source": [
    "#cnn_rnn_model.fit(train_x, train_y, epochs = 10, batch_size = 1, verbose = 1)\n",
    "\n",
    "cnn_rnn_model_history = cnn_rnn_model.fit(train_generator, steps_per_epoch=steps_per_epoch, epochs=num_epochs, verbose=1,\n",
    "                    callbacks=callbacks_list, validation_data=val_generator,\n",
    "                    validation_steps=validation_steps)#, initial_epoch=0)\n",
    "\n",
    "#fit_generator(train_generator, steps_per_epoch=steps_per_epoch, epochs=num_epochs, verbose=1, \n",
    "#            callbacks=callbacks_list, validation_data=val_generator, \n",
    "#            validation_steps=validation_steps, class_weight=None, workers=1, initial_epoch=0)"
   ]
  },
  {
   "cell_type": "code",
   "execution_count": null,
   "metadata": {
    "id": "gLBWXnImq_ZK"
   },
   "outputs": [],
   "source": []
  },
  {
   "cell_type": "code",
   "execution_count": null,
   "metadata": {
    "id": "glidtIGqrBIm"
   },
   "outputs": [],
   "source": [
    "#train_generator = generator(train_path, train_doc, batch_size)\n",
    "#val_generator = generator(val_path, val_doc, batch_size)"
   ]
  },
  {
   "cell_type": "code",
   "execution_count": 47,
   "metadata": {
    "id": "fZ4EVsR_rBIy"
   },
   "outputs": [],
   "source": [
    "model_name = 'model_init' + '_' + str(curr_dt_time).replace(' ','').replace(':','_') + '/'\n",
    "\n",
    "if not os.path.exists(model_name):\n",
    "    os.mkdir(model_name)\n",
    "\n",
    "#filepath = model_name + 'model-{epoch:05d}-{loss:.5f}-{categorical_accuracy:.5f}-{val_loss:.5f}-{val_categorical_accuracy:.5f}.h5'\n",
    "filepath = model_name + 'model-{epoch:05d}-{loss:.5f}-{categorical_accuracy:.5f}-{val_loss:.5f}-{val_categorical_accuracy:.5f}.keras'\n",
    "\n",
    "checkpoint = ModelCheckpoint(model_checkpoint_path+filepath, monitor='val_loss', verbose=1, save_best_only=False, save_weights_only=False, mode='auto', save_freq='epoch')\n",
    "\n",
    "LR = ReduceLROnPlateau(monitor='val_loss', factor=0.2,\n",
    "                              patience=5, min_lr=0.001) # write the REducelronplateau code here\n",
    "callbacks_list = [checkpoint, LR]"
   ]
  },
  {
   "cell_type": "markdown",
   "metadata": {
    "id": "Uuk_Fh9orBIy"
   },
   "source": [
    "The `steps_per_epoch` and `validation_steps` are used by `fit_generator` to decide the number of next() calls it need to make."
   ]
  },
  {
   "cell_type": "code",
   "execution_count": 48,
   "metadata": {
    "id": "5lsOE27wrBIy"
   },
   "outputs": [],
   "source": [
    "if (num_train_sequences%batch_size) == 0:\n",
    "    steps_per_epoch = int(num_train_sequences/batch_size)\n",
    "else:\n",
    "    steps_per_epoch = (num_train_sequences//batch_size) + 1\n",
    "\n",
    "if (num_val_sequences%batch_size) == 0:\n",
    "    validation_steps = int(num_val_sequences/batch_size)\n",
    "else:\n",
    "    validation_steps = (num_val_sequences//batch_size) + 1"
   ]
  },
  {
   "cell_type": "markdown",
   "metadata": {
    "id": "ypHgnpxSrBIy"
   },
   "source": [
    "Let us now fit the model. This will start training the model and with the help of the checkpoints, you'll be able to save the model at the end of each epoch."
   ]
  },
  {
   "cell_type": "code",
   "execution_count": 50,
   "metadata": {
    "id": "gbWUKesxrBIz"
   },
   "outputs": [
    {
     "name": "stdout",
     "output_type": "stream",
     "text": [
      "\u001b[1m12/12\u001b[0m \u001b[32m━━━━━━━━━━━━━━━━━━━━\u001b[0m\u001b[37m\u001b[0m \u001b[1m0s\u001b[0m 8s/step - categorical_accuracy: 0.5661 - loss: 1.0207\n",
      "Epoch 1: saving model to C:/Users/ukhan/Documents/Learning/Python/Jupyter/DeepLearning_CaseStudy_GuestureRecognition/model_init_2024-07-3108_42_28.800554/model-00001-0.88040-0.70000-1.60573-0.20000.keras\n",
      "\u001b[1m12/12\u001b[0m \u001b[32m━━━━━━━━━━━━━━━━━━━━\u001b[0m\u001b[37m\u001b[0m \u001b[1m106s\u001b[0m 9s/step - categorical_accuracy: 0.5764 - loss: 1.0100 - val_categorical_accuracy: 0.2000 - val_loss: 1.6057 - learning_rate: 0.0010\n"
     ]
    }
   ],
   "source": [
    "cnn_rnn_model_history = cnn_rnn_model.fit(train_generator, steps_per_epoch=steps_per_epoch, epochs=num_epochs, verbose=1,\n",
    "                    callbacks=callbacks_list, validation_data=val_generator,\n",
    "                    validation_steps=validation_steps)#, initial_epoch=0)\n",
    "\n",
    "#cnn_rnn_model.fit_generator(train_generator, steps_per_epoch=steps_per_epoch, epochs=num_epochs, verbose=1,\n",
    "#                    callbacks=callbacks_list, validation_data=val_generator,\n",
    "#                    validation_steps=validation_steps, class_weight=None, workers=1, initial_epoch=0)"
   ]
  },
  {
   "cell_type": "code",
   "execution_count": 51,
   "metadata": {
    "id": "1-tYgg9vrBIz"
   },
   "outputs": [
    {
     "data": {
      "image/png": "[encoded data removed]",
      "text/plain": [
       "<Figure size 1500x400 with 2 Axes>"
      ]
     },
     "metadata": {},
     "output_type": "display_data"
    },
    {
     "name": "stdout",
     "output_type": "stream",
     "text": [
      "Max. Training Accuracy 0.699999988079071\n",
      "Max. Validaiton Accuracy 0.20000000298023224\n"
     ]
    }
   ],
   "source": [
    "#Plot CNN-RNN Model History with Conv2D + LSTM\n",
    "plotModelHistory(cnn_rnn_model_history)"
   ]
  },
  {
   "cell_type": "code",
   "execution_count": null,
   "metadata": {
    "id": "XKb6Kw_5rBIz"
   },
   "outputs": [],
   "source": []
  }
 ],
 "metadata": {
  "colab": {
   "provenance": []
  },
  "kernelspec": {
   "display_name": "Python 3 (ipykernel)",
   "language": "python",
   "name": "python3"
  },
  "language_info": {
   "codemirror_mode": {
    "name": "ipython",
    "version": 3
   },
   "file_extension": ".py",
   "mimetype": "text/x-python",
   "name": "python",
   "nbconvert_exporter": "python",
   "pygments_lexer": "ipython3",
   "version": "3.11.9"
  }
 },
 "nbformat": 4,
 "nbformat_minor": 4
}
